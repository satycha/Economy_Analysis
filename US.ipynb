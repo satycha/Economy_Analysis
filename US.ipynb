{
 "cells": [
  {
   "cell_type": "markdown",
   "metadata": {},
   "source": [
    "# Project: Economy Analysis\n",
    "\n",
    "## Table of Contents\n",
    "<ul>\n",
    "<li><a href=\"#intro\">Introduction</a></li>\n",
    "<li><a href=\"#wrangling\">Data Wrangling</a></li>\n",
    "<li><a href=\"#eda\">Exploratory Data Analysis</a></li>\n",
    "<li><a href=\"#conclusions\">Conclusions</a></li>\n",
    "</ul>"
   ]
  },
  {
   "cell_type": "markdown",
   "metadata": {},
   "source": [
    "# <a id='intro'></a>\n",
    "## Introduction\n",
    "\n",
    "> Economic Growth can be best explained by examining five important sources of economic growth \n",
    "\n",
    "> Labour supply - The labor force is the number of people over the age of 16 who are either working or available for work but currently unemployed. It is affected by population growth, net immigration and the labor force participation rate.\n",
    " \n",
    "> Physical Capital Stock - A high rate of investment increases a country's stock of physical capital. As noted earlier, a larger capital stock increases labor productivity and potential GDP. \n",
    "\n",
    "> Technology - Improvements in technology increase productivity and potential GDP. More rapid improvements in technology lead to greater rates of economic growth.\n",
    "\n",
    "> Natural Resources - Raw material inputs, such as oil and land, are necessary to produce economic output. These resources may be renewable. Countries with large amounts of productive natural resources can achieve greater rates of economic growth\n",
    "\n",
    "> In developed countries, where a high level of capital per worker is available and capital inputs experience diminishing marginal productivity, technological advances that increase total factor productivity are the main sources of sustainable economic growth\n",
    "\n",
    "> It is also imprtant to analyze the human development index to ensure that the economic growth also improves HDI\n"
   ]
  },
  {
   "cell_type": "code",
   "execution_count": 1,
   "metadata": {
    "scrolled": true
   },
   "outputs": [],
   "source": [
    "import pandas as pd \n",
    "import matplotlib.pyplot as plt\n",
    "import numpy as np\n",
    "import seaborn as sns"
   ]
  },
  {
   "cell_type": "markdown",
   "metadata": {},
   "source": [
    "# <a id='wrangling'></a>\n",
    "## Data Wrangling\n",
    "\n",
    "\n",
    "### General Properties\n",
    "\n",
    "> Data Set Description - \n",
    "\n",
    "The data set was obtained from Gapminder world. Following datasets were taken to merge features like - gdp, income, population, labor participation, investment, tax revenue, hdi, r&d investment, inflation, interest rates and natural resources rent. \n",
    "\n",
    "Each data set contained time series data for each feature for multiple countries. out of them data for the US was chosen from the year 2005 to 2015. Then they were mergerd to create a dataset to analyze effects and trends of each feature on the GDP as well as HDI\n",
    "\n"
   ]
  },
  {
   "cell_type": "code",
   "execution_count": 2,
   "metadata": {
    "scrolled": true
   },
   "outputs": [],
   "source": [
    "#loading the data\n",
    "total_gdp = pd.read_csv('Total_gdp_inflation_adj.csv')\n",
    "income = pd.read_csv('Income$.csv')\n",
    "annual_inflation = pd.read_csv('inflation_annual_percent.csv')\n",
    "labor_force = pd.read_csv('labor_force.csv')\n",
    "interest_rate = pd.read_csv('interest_rate%.csv')\n",
    "population = pd.read_csv('population_total.csv')\n",
    "investment_perc_ofgdp = pd.read_csv('investments_percentofgdp.csv')\n",
    "tax_revenue = pd.read_csv('tax_revenue_percent_of_gdp.csv')\n",
    "natural_resources = pd.read_csv('total_natural_resources_rent%.csv')\n",
    "res_inv = pd.read_csv('r&d_expenditure%.csv')\n",
    "hdi = pd.read_csv('HDI.csv')\n",
    "tech = pd.read_csv('high_tech_exports.csv')"
   ]
  },
  {
   "cell_type": "code",
   "execution_count": 3,
   "metadata": {
    "scrolled": true
   },
   "outputs": [],
   "source": [
    "#Preparing Income data for the US\n",
    "gdp = total_gdp.transpose()"
   ]
  },
  {
   "cell_type": "code",
   "execution_count": 4,
   "metadata": {
    "scrolled": true
   },
   "outputs": [],
   "source": [
    "new_header =gdp.iloc[0]\n",
    "gdp =  gdp[1:]\n",
    "gdp.columns = new_header"
   ]
  },
  {
   "cell_type": "code",
   "execution_count": 5,
   "metadata": {
    "scrolled": true
   },
   "outputs": [],
   "source": [
    "gdp = gdp.loc[:,['United States']]\n",
    "gdp = gdp.transpose()\n",
    "gdp = gdp.loc[:,'2005':'2015']"
   ]
  },
  {
   "cell_type": "code",
   "execution_count": 6,
   "metadata": {
    "scrolled": true
   },
   "outputs": [],
   "source": [
    "gdp = gdp.transpose()"
   ]
  },
  {
   "cell_type": "code",
   "execution_count": 7,
   "metadata": {
    "scrolled": true
   },
   "outputs": [],
   "source": [
    "gdp.reset_index(level=0,inplace=True)\n",
    "gdp.rename(columns={'index':'year'}, inplace = True)\n",
    "gdp.columns.name = None\n",
    "#fixing the data types\n",
    "# income['year'] = pd.to_datetime(income['year'])\n",
    "gdp['United States'] = gdp['United States'].replace('\\D', '', regex = True).astype(float)\n",
    "gdp['United States'] = gdp['United States']/10\n",
    "#changing column names\n",
    "gdp.rename(columns = {'United States':'gdp_trillions'},inplace = True)\n"
   ]
  },
  {
   "cell_type": "code",
   "execution_count": 8,
   "metadata": {
    "scrolled": true
   },
   "outputs": [],
   "source": [
    "gdp.drop(columns = 'year', inplace=True)"
   ]
  },
  {
   "cell_type": "code",
   "execution_count": 9,
   "metadata": {
    "scrolled": true
   },
   "outputs": [],
   "source": [
    "#Gathering Income data for the US\n",
    "income = income.transpose()"
   ]
  },
  {
   "cell_type": "code",
   "execution_count": 10,
   "metadata": {
    "scrolled": true
   },
   "outputs": [],
   "source": [
    "new_header =income.iloc[0]\n",
    "income =  income[1:]\n",
    "income.columns = new_header"
   ]
  },
  {
   "cell_type": "code",
   "execution_count": 11,
   "metadata": {
    "scrolled": true
   },
   "outputs": [],
   "source": [
    "income = income.loc[:,['United States']]\n",
    "income = income.transpose()\n",
    "income = income.loc[:,'2005':'2015']"
   ]
  },
  {
   "cell_type": "code",
   "execution_count": 12,
   "metadata": {
    "scrolled": true
   },
   "outputs": [],
   "source": [
    "income = income.transpose()"
   ]
  },
  {
   "cell_type": "code",
   "execution_count": 13,
   "metadata": {
    "scrolled": true
   },
   "outputs": [],
   "source": [
    "income.reset_index(level=0,inplace=True)\n",
    "income.rename(columns={'index':'year'}, inplace = True)\n",
    "income.columns.name = None\n",
    "#fixing the data types\n",
    "# income['year'] = pd.to_datetime(income['year'])\n",
    "income['United States'] = income['United States'].replace('\\D', '', regex = True).astype(int)\n",
    "#making the thousands since we removed k \n",
    "income['United States'] = income['United States']*1000\n",
    "#changing column names\n",
    "income.rename(columns = {'United States':'income'},inplace = True)"
   ]
  },
  {
   "cell_type": "code",
   "execution_count": 14,
   "metadata": {
    "scrolled": true
   },
   "outputs": [],
   "source": [
    "#############################################################"
   ]
  },
  {
   "cell_type": "code",
   "execution_count": 15,
   "metadata": {
    "scrolled": true
   },
   "outputs": [],
   "source": [
    "#Preparing Inflation data\n",
    "inflation = annual_inflation.transpose()"
   ]
  },
  {
   "cell_type": "code",
   "execution_count": 16,
   "metadata": {
    "scrolled": true
   },
   "outputs": [],
   "source": [
    "new_header =inflation.iloc[0]\n",
    "inflation =  inflation[1:]\n",
    "inflation.columns = new_header\n",
    "inflation = inflation.loc[:,['United States']]\n",
    "inflation = inflation.transpose()\n",
    "inflation = inflation.loc[:,'2005':'2015']"
   ]
  },
  {
   "cell_type": "code",
   "execution_count": 17,
   "metadata": {
    "scrolled": true
   },
   "outputs": [],
   "source": [
    "inflation = inflation.transpose()"
   ]
  },
  {
   "cell_type": "code",
   "execution_count": 18,
   "metadata": {
    "scrolled": true
   },
   "outputs": [],
   "source": [
    "inflation.reset_index(level=0,inplace=True)\n",
    "inflation.rename(columns={'index':'year'}, inplace = True)\n",
    "inflation.columns.name = None"
   ]
  },
  {
   "cell_type": "code",
   "execution_count": 19,
   "metadata": {
    "scrolled": true
   },
   "outputs": [],
   "source": [
    "inflation['United States'] = inflation['United States'].astype(float)\n",
    "inflation.rename(columns = {'United States':'inflation_p'},inplace = True)"
   ]
  },
  {
   "cell_type": "code",
   "execution_count": 20,
   "metadata": {
    "scrolled": true
   },
   "outputs": [],
   "source": [
    "inflation.drop(columns = 'year', inplace=True)"
   ]
  },
  {
   "cell_type": "code",
   "execution_count": 21,
   "metadata": {
    "scrolled": true
   },
   "outputs": [],
   "source": [
    "###########################################################"
   ]
  },
  {
   "cell_type": "code",
   "execution_count": 22,
   "metadata": {
    "scrolled": true
   },
   "outputs": [],
   "source": [
    "#Preparing interest_rate data\n",
    "interest_rate = interest_rate.transpose()"
   ]
  },
  {
   "cell_type": "code",
   "execution_count": 23,
   "metadata": {
    "scrolled": true
   },
   "outputs": [],
   "source": [
    "new_header =interest_rate.iloc[0]\n",
    "interest_rate =  interest_rate[1:]\n",
    "interest_rate.columns = new_header\n",
    "interest_rate = interest_rate.loc[:,['United States']]\n",
    "interest_rate = interest_rate.transpose()\n",
    "interest_rate = interest_rate.loc[:,'2000':'2015']"
   ]
  },
  {
   "cell_type": "code",
   "execution_count": 24,
   "metadata": {
    "scrolled": true
   },
   "outputs": [],
   "source": [
    "interest_rate = interest_rate.transpose()"
   ]
  },
  {
   "cell_type": "code",
   "execution_count": 25,
   "metadata": {
    "scrolled": true
   },
   "outputs": [],
   "source": [
    "interest_rate.reset_index(level=0,inplace=True)\n",
    "interest_rate.rename(columns={'index':'year'}, inplace = True)\n",
    "#removing column name\n",
    "interest_rate.columns.name = None\n",
    "#changing data type\n",
    "interest_rate['United States'] = interest_rate['United States'].astype(float)\n",
    "interest_rate.rename(columns = {'United States':'interest_rate_p'},inplace = True)\n",
    "interest_rate.drop(columns = 'year', inplace=True)"
   ]
  },
  {
   "cell_type": "code",
   "execution_count": 26,
   "metadata": {
    "scrolled": true
   },
   "outputs": [],
   "source": [
    "######################################################################"
   ]
  },
  {
   "cell_type": "code",
   "execution_count": 27,
   "metadata": {
    "scrolled": true
   },
   "outputs": [],
   "source": [
    "#Preparing population data for the US\n",
    "population = population.transpose()"
   ]
  },
  {
   "cell_type": "code",
   "execution_count": 28,
   "metadata": {
    "scrolled": true
   },
   "outputs": [],
   "source": [
    "new_header =population.iloc[0]\n",
    "population=  population[1:]\n",
    "population.columns = new_header\n",
    "population = population.loc[:,['United States']]"
   ]
  },
  {
   "cell_type": "code",
   "execution_count": 29,
   "metadata": {
    "scrolled": true
   },
   "outputs": [],
   "source": [
    "population = population.transpose()"
   ]
  },
  {
   "cell_type": "code",
   "execution_count": 30,
   "metadata": {
    "scrolled": true
   },
   "outputs": [],
   "source": [
    "population = population.loc[:,'2005':'2015']"
   ]
  },
  {
   "cell_type": "code",
   "execution_count": 31,
   "metadata": {
    "scrolled": true
   },
   "outputs": [],
   "source": [
    "population = population.transpose()"
   ]
  },
  {
   "cell_type": "code",
   "execution_count": 32,
   "metadata": {
    "scrolled": true
   },
   "outputs": [],
   "source": [
    "population.reset_index(level=0,inplace=True)\n",
    "population.rename(columns={'index':'year'}, inplace = True)\n",
    "population.columns.name = None"
   ]
  },
  {
   "cell_type": "code",
   "execution_count": 33,
   "metadata": {
    "scrolled": true
   },
   "outputs": [],
   "source": [
    "population.reset_index(level=0,inplace=True)\n",
    "population.rename(columns={'index':'year'}, inplace = True)\n",
    "#removing column name\n",
    "population.columns.name = None\n",
    "#changing data type\n",
    "population['United States'] = population['United States'].replace('\\D', '', regex = True).astype(int)\n",
    "population.rename(columns = {'United States':'population_m'},inplace = True)\n",
    "population.drop(columns = 'year', inplace=True)"
   ]
  },
  {
   "cell_type": "code",
   "execution_count": 34,
   "metadata": {
    "scrolled": true
   },
   "outputs": [],
   "source": [
    "#########################################################################"
   ]
  },
  {
   "cell_type": "code",
   "execution_count": 35,
   "metadata": {
    "scrolled": true
   },
   "outputs": [],
   "source": [
    "#Preparing investement data for the US\n",
    "investment_perc_ofgdp = investment_perc_ofgdp.transpose()"
   ]
  },
  {
   "cell_type": "code",
   "execution_count": 36,
   "metadata": {
    "scrolled": true
   },
   "outputs": [],
   "source": [
    "new_header =investment_perc_ofgdp.iloc[0]\n",
    "investment_perc_ofgdp =  investment_perc_ofgdp[1:]\n",
    "investment_perc_ofgdp.columns = new_header"
   ]
  },
  {
   "cell_type": "code",
   "execution_count": 37,
   "metadata": {
    "scrolled": true
   },
   "outputs": [],
   "source": [
    "investment_perc_ofgdp = investment_perc_ofgdp.loc[:,['United States']]\n",
    "investment_perc_ofgdp = investment_perc_ofgdp.transpose()\n",
    "investment_perc_ofgdp = investment_perc_ofgdp.loc[:,'2005':'2015']"
   ]
  },
  {
   "cell_type": "code",
   "execution_count": 38,
   "metadata": {
    "scrolled": true
   },
   "outputs": [],
   "source": [
    "investment_perc_ofgdp = investment_perc_ofgdp.transpose()"
   ]
  },
  {
   "cell_type": "code",
   "execution_count": 39,
   "metadata": {
    "scrolled": true
   },
   "outputs": [],
   "source": [
    "investment_perc_ofgdp.reset_index(level=0,inplace=True)\n",
    "investment_perc_ofgdp.rename(columns={'index':'year'}, inplace = True)\n",
    "investment_perc_ofgdp.columns.name = None\n",
    "investment_perc_ofgdp['United States'] = investment_perc_ofgdp['United States'].astype(float)\n",
    "investment_perc_ofgdp.rename(columns = {'United States':'inv_p'},inplace = True)\n",
    "investment_perc_ofgdp.drop(columns = 'year', inplace=True)"
   ]
  },
  {
   "cell_type": "code",
   "execution_count": 40,
   "metadata": {
    "scrolled": true
   },
   "outputs": [],
   "source": [
    "###########################################################################"
   ]
  },
  {
   "cell_type": "code",
   "execution_count": 41,
   "metadata": {
    "scrolled": true
   },
   "outputs": [],
   "source": [
    "#Preparing tax revenue data for the US\n",
    "tax_revenue = tax_revenue.transpose()"
   ]
  },
  {
   "cell_type": "code",
   "execution_count": 42,
   "metadata": {
    "scrolled": true
   },
   "outputs": [],
   "source": [
    "new_header =tax_revenue.iloc[0]\n",
    "tax_revenue =  tax_revenue[1:]\n",
    "tax_revenue.columns = new_header"
   ]
  },
  {
   "cell_type": "code",
   "execution_count": 43,
   "metadata": {
    "scrolled": true
   },
   "outputs": [],
   "source": [
    "tax_revenue = tax_revenue.loc[:,['United States']]\n",
    "tax_revenue = tax_revenue.transpose()\n",
    "tax_revenue = tax_revenue.loc[:,'2005':'2015']"
   ]
  },
  {
   "cell_type": "code",
   "execution_count": 44,
   "metadata": {
    "scrolled": true
   },
   "outputs": [],
   "source": [
    "tax_revenue = tax_revenue.transpose()"
   ]
  },
  {
   "cell_type": "code",
   "execution_count": 45,
   "metadata": {
    "scrolled": true
   },
   "outputs": [],
   "source": [
    "tax_revenue.reset_index(level=0,inplace=True)\n",
    "tax_revenue.rename(columns={'index':'year'}, inplace = True)\n",
    "tax_revenue.columns.name = None\n",
    "tax_revenue['United States'] = tax_revenue['United States'].astype(float)\n",
    "tax_revenue.rename(columns = {'United States':'tax_rev_p'},inplace = True)\n",
    "tax_revenue.drop(columns = 'year', inplace=True)"
   ]
  },
  {
   "cell_type": "code",
   "execution_count": 46,
   "metadata": {
    "scrolled": true
   },
   "outputs": [],
   "source": [
    "#############################################################################"
   ]
  },
  {
   "cell_type": "code",
   "execution_count": 47,
   "metadata": {
    "scrolled": true
   },
   "outputs": [],
   "source": [
    "#Preparing natural resources rent data for the US\n",
    "natural_resources = natural_resources .transpose()"
   ]
  },
  {
   "cell_type": "code",
   "execution_count": 48,
   "metadata": {
    "scrolled": true
   },
   "outputs": [],
   "source": [
    "new_header = natural_resources.iloc[0]\n",
    "natural_resources  =  natural_resources[1:]\n",
    "natural_resources.columns = new_header"
   ]
  },
  {
   "cell_type": "code",
   "execution_count": 49,
   "metadata": {
    "scrolled": true
   },
   "outputs": [],
   "source": [
    "natural_resources = natural_resources.loc[:,['United States']]\n",
    "natural_resources = natural_resources.transpose()\n",
    "natural_resources = natural_resources.loc[:,'2005':'2015']"
   ]
  },
  {
   "cell_type": "code",
   "execution_count": 50,
   "metadata": {
    "scrolled": true
   },
   "outputs": [],
   "source": [
    "natural_resources = natural_resources.transpose()"
   ]
  },
  {
   "cell_type": "code",
   "execution_count": 51,
   "metadata": {
    "scrolled": true
   },
   "outputs": [],
   "source": [
    "natural_resources.reset_index(level=0,inplace=True)\n",
    "natural_resources.rename(columns={'index':'year'}, inplace = True)\n",
    "natural_resources.columns.name = None\n",
    "natural_resources['United States'] = natural_resources['United States'].astype(float)\n",
    "natural_resources.rename(columns = {'United States':'natural_resources_rent_p'},inplace = True)\n",
    "natural_resources.drop(columns = 'year', inplace=True)"
   ]
  },
  {
   "cell_type": "code",
   "execution_count": 52,
   "metadata": {
    "scrolled": true
   },
   "outputs": [],
   "source": [
    "######################################################################"
   ]
  },
  {
   "cell_type": "code",
   "execution_count": 53,
   "metadata": {
    "scrolled": true
   },
   "outputs": [],
   "source": [
    "#Preparing research investment data for the US\n",
    "res_inv = res_inv.transpose()"
   ]
  },
  {
   "cell_type": "code",
   "execution_count": 54,
   "metadata": {
    "scrolled": true
   },
   "outputs": [],
   "source": [
    "new_header = res_inv.iloc[0]\n",
    "res_inv  =  res_inv[1:]\n",
    "res_inv.columns = new_header"
   ]
  },
  {
   "cell_type": "code",
   "execution_count": 55,
   "metadata": {
    "scrolled": true
   },
   "outputs": [],
   "source": [
    "res_inv = res_inv.loc[:,['United States']]\n",
    "res_inv = res_inv.transpose()\n",
    "res_inv = res_inv.loc[:,'2005':'2015']"
   ]
  },
  {
   "cell_type": "code",
   "execution_count": 56,
   "metadata": {
    "scrolled": true
   },
   "outputs": [],
   "source": [
    "res_inv= res_inv.transpose()"
   ]
  },
  {
   "cell_type": "code",
   "execution_count": 57,
   "metadata": {
    "scrolled": true
   },
   "outputs": [],
   "source": [
    "res_inv.reset_index(level=0,inplace=True)\n",
    "res_inv.rename(columns={'index':'year'}, inplace = True)\n",
    "res_inv.columns.name = None\n",
    "res_inv['United States'] = res_inv['United States'].astype(float)\n",
    "res_inv.rename(columns = {'United States':'research_inv_p'},inplace = True)\n",
    "res_inv.drop(columns = 'year', inplace=True)"
   ]
  },
  {
   "cell_type": "code",
   "execution_count": 58,
   "metadata": {
    "scrolled": true
   },
   "outputs": [],
   "source": [
    "######################################################################"
   ]
  },
  {
   "cell_type": "code",
   "execution_count": 59,
   "metadata": {
    "scrolled": true
   },
   "outputs": [],
   "source": [
    "#Preparing hdi data for the US\n",
    "hdi = hdi.transpose()"
   ]
  },
  {
   "cell_type": "code",
   "execution_count": 60,
   "metadata": {
    "scrolled": true
   },
   "outputs": [],
   "source": [
    "new_header = hdi.iloc[0]\n",
    "hdi =  hdi[1:]\n",
    "hdi.columns = new_header"
   ]
  },
  {
   "cell_type": "code",
   "execution_count": 61,
   "metadata": {
    "scrolled": true
   },
   "outputs": [],
   "source": [
    "hdi = hdi.loc[:,['United States']]\n",
    "hdi = hdi.transpose()\n",
    "hdi = hdi.loc[:,'2005':'2015']"
   ]
  },
  {
   "cell_type": "code",
   "execution_count": 62,
   "metadata": {
    "scrolled": true
   },
   "outputs": [],
   "source": [
    "hdi= hdi.transpose()"
   ]
  },
  {
   "cell_type": "code",
   "execution_count": 63,
   "metadata": {
    "scrolled": true
   },
   "outputs": [],
   "source": [
    "hdi.reset_index(level=0,inplace=True)\n",
    "hdi.rename(columns={'index':'year'}, inplace = True)\n",
    "hdi.columns.name = None\n",
    "hdi['United States'] = hdi['United States'].astype(float)\n",
    "hdi.rename(columns = {'United States':'HDI'},inplace = True)\n",
    "hdi.drop(columns = 'year', inplace=True)"
   ]
  },
  {
   "cell_type": "code",
   "execution_count": 64,
   "metadata": {
    "scrolled": true
   },
   "outputs": [],
   "source": [
    "######################################################################"
   ]
  },
  {
   "cell_type": "code",
   "execution_count": 65,
   "metadata": {
    "scrolled": true
   },
   "outputs": [],
   "source": [
    "#Preparing Tech data for the US\n",
    "tech = tech.transpose()"
   ]
  },
  {
   "cell_type": "code",
   "execution_count": 66,
   "metadata": {
    "scrolled": true
   },
   "outputs": [],
   "source": [
    "new_header = tech.iloc[0]\n",
    "tech  =  tech[1:]\n",
    "tech.columns = new_header"
   ]
  },
  {
   "cell_type": "code",
   "execution_count": 67,
   "metadata": {
    "scrolled": true
   },
   "outputs": [],
   "source": [
    "tech = tech.loc[:,['United States']]\n",
    "tech = tech.transpose()\n",
    "tech = tech.loc[:,'2005':'2015']"
   ]
  },
  {
   "cell_type": "code",
   "execution_count": 68,
   "metadata": {
    "scrolled": true
   },
   "outputs": [],
   "source": [
    "tech = tech.transpose()"
   ]
  },
  {
   "cell_type": "code",
   "execution_count": 69,
   "metadata": {
    "scrolled": true
   },
   "outputs": [],
   "source": [
    "tech.reset_index(level=0,inplace=True)\n",
    "tech.rename(columns={'index':'year'}, inplace = True)\n",
    "tech.columns.name = None\n",
    "tech['United States'] = tech['United States'].replace('\\D', '', regex = True).astype(int)\n",
    "tech.rename(columns = {'United States':'tech_exports_billions'},inplace = True)\n",
    "tech.drop(columns = 'year', inplace=True)"
   ]
  },
  {
   "cell_type": "code",
   "execution_count": 70,
   "metadata": {
    "scrolled": true
   },
   "outputs": [],
   "source": [
    "######################################################################"
   ]
  },
  {
   "cell_type": "code",
   "execution_count": 71,
   "metadata": {
    "scrolled": true
   },
   "outputs": [],
   "source": [
    "#Preparing labor participation dat for the US\n",
    "labor = labor_force.transpose()"
   ]
  },
  {
   "cell_type": "code",
   "execution_count": 72,
   "metadata": {
    "scrolled": true
   },
   "outputs": [],
   "source": [
    "new_header = labor.iloc[0]\n",
    "labor = labor[1:]\n",
    "labor.columns = new_header"
   ]
  },
  {
   "cell_type": "code",
   "execution_count": 73,
   "metadata": {
    "scrolled": true
   },
   "outputs": [],
   "source": [
    "labor = labor.loc[:,['United States']]\n",
    "labor = labor.transpose()\n",
    "labor = labor.loc[:,'2005':'2015']"
   ]
  },
  {
   "cell_type": "code",
   "execution_count": 74,
   "metadata": {
    "scrolled": true
   },
   "outputs": [],
   "source": [
    "labor = labor.transpose()"
   ]
  },
  {
   "cell_type": "code",
   "execution_count": 75,
   "metadata": {
    "scrolled": true
   },
   "outputs": [],
   "source": [
    "labor.reset_index(level=0,inplace=True)\n",
    "labor.rename(columns={'index':'year'}, inplace = True)\n",
    "labor.columns.name = None\n",
    "labor['United States'] = labor['United States'].astype(float)\n",
    "labor.rename(columns = {'United States':'labor_participation'},inplace = True)\n",
    "labor.drop(columns = 'year', inplace=True)"
   ]
  },
  {
   "cell_type": "code",
   "execution_count": 76,
   "metadata": {
    "scrolled": true
   },
   "outputs": [],
   "source": [
    "usa = pd.concat([income,gdp,inflation,interest_rate,population,labor,investment_perc_ofgdp,tax_revenue,natural_resources,res_inv,hdi,tech], axis =1)"
   ]
  },
  {
   "cell_type": "code",
   "execution_count": 77,
   "metadata": {
    "scrolled": true
   },
   "outputs": [
    {
     "data": {
      "text/html": [
       "<div>\n",
       "<style scoped>\n",
       "    .dataframe tbody tr th:only-of-type {\n",
       "        vertical-align: middle;\n",
       "    }\n",
       "\n",
       "    .dataframe tbody tr th {\n",
       "        vertical-align: top;\n",
       "    }\n",
       "\n",
       "    .dataframe thead th {\n",
       "        text-align: right;\n",
       "    }\n",
       "</style>\n",
       "<table border=\"1\" class=\"dataframe\">\n",
       "  <thead>\n",
       "    <tr style=\"text-align: right;\">\n",
       "      <th></th>\n",
       "      <th>year</th>\n",
       "      <th>income</th>\n",
       "      <th>gdp_trillions</th>\n",
       "      <th>inflation_p</th>\n",
       "      <th>interest_rate_p</th>\n",
       "      <th>population_m</th>\n",
       "      <th>labor_participation</th>\n",
       "      <th>inv_p</th>\n",
       "      <th>tax_rev_p</th>\n",
       "      <th>natural_resources_rent_p</th>\n",
       "      <th>research_inv_p</th>\n",
       "      <th>HDI</th>\n",
       "      <th>tech_exports_billions</th>\n",
       "    </tr>\n",
       "  </thead>\n",
       "  <tbody>\n",
       "    <tr>\n",
       "      <th>0</th>\n",
       "      <td>2005</td>\n",
       "      <td>504000</td>\n",
       "      <td>15.2</td>\n",
       "      <td>3.030</td>\n",
       "      <td>1.0</td>\n",
       "      <td>298</td>\n",
       "      <td>83.0</td>\n",
       "      <td>23.5</td>\n",
       "      <td>11.30</td>\n",
       "      <td>1.090</td>\n",
       "      <td>2.56</td>\n",
       "      <td>0.899</td>\n",
       "      <td>244.0</td>\n",
       "    </tr>\n",
       "    <tr>\n",
       "      <th>1</th>\n",
       "      <td>2006</td>\n",
       "      <td>509000</td>\n",
       "      <td>15.5</td>\n",
       "      <td>2.690</td>\n",
       "      <td>1.0</td>\n",
       "      <td>301</td>\n",
       "      <td>83.1</td>\n",
       "      <td>22.6</td>\n",
       "      <td>11.30</td>\n",
       "      <td>1.040</td>\n",
       "      <td>2.63</td>\n",
       "      <td>0.902</td>\n",
       "      <td>247.0</td>\n",
       "    </tr>\n",
       "    <tr>\n",
       "      <th>2</th>\n",
       "      <td>2007</td>\n",
       "      <td>504000</td>\n",
       "      <td>15.4</td>\n",
       "      <td>1.950</td>\n",
       "      <td>2.0</td>\n",
       "      <td>303</td>\n",
       "      <td>83.2</td>\n",
       "      <td>21.1</td>\n",
       "      <td>10.30</td>\n",
       "      <td>1.910</td>\n",
       "      <td>2.77</td>\n",
       "      <td>0.907</td>\n",
       "      <td>154.0</td>\n",
       "    </tr>\n",
       "    <tr>\n",
       "      <th>3</th>\n",
       "      <td>2008</td>\n",
       "      <td>486000</td>\n",
       "      <td>14.9</td>\n",
       "      <td>0.762</td>\n",
       "      <td>3.0</td>\n",
       "      <td>306</td>\n",
       "      <td>82.7</td>\n",
       "      <td>17.8</td>\n",
       "      <td>7.92</td>\n",
       "      <td>0.771</td>\n",
       "      <td>2.81</td>\n",
       "      <td>0.908</td>\n",
       "      <td>169.0</td>\n",
       "    </tr>\n",
       "    <tr>\n",
       "      <th>4</th>\n",
       "      <td>2009</td>\n",
       "      <td>495000</td>\n",
       "      <td>15.3</td>\n",
       "      <td>1.170</td>\n",
       "      <td>5.0</td>\n",
       "      <td>309</td>\n",
       "      <td>82.3</td>\n",
       "      <td>18.7</td>\n",
       "      <td>8.60</td>\n",
       "      <td>0.917</td>\n",
       "      <td>2.74</td>\n",
       "      <td>0.911</td>\n",
       "      <td>169.0</td>\n",
       "    </tr>\n",
       "    <tr>\n",
       "      <th>5</th>\n",
       "      <td>2010</td>\n",
       "      <td>499000</td>\n",
       "      <td>15.6</td>\n",
       "      <td>2.090</td>\n",
       "      <td>6.0</td>\n",
       "      <td>312</td>\n",
       "      <td>81.7</td>\n",
       "      <td>19.1</td>\n",
       "      <td>9.57</td>\n",
       "      <td>1.230</td>\n",
       "      <td>2.77</td>\n",
       "      <td>0.914</td>\n",
       "      <td>172.0</td>\n",
       "    </tr>\n",
       "    <tr>\n",
       "      <th>6</th>\n",
       "      <td>2011</td>\n",
       "      <td>506000</td>\n",
       "      <td>16.1</td>\n",
       "      <td>1.920</td>\n",
       "      <td>NaN</td>\n",
       "      <td>314</td>\n",
       "      <td>81.6</td>\n",
       "      <td>20.0</td>\n",
       "      <td>9.80</td>\n",
       "      <td>0.826</td>\n",
       "      <td>2.68</td>\n",
       "      <td>0.916</td>\n",
       "      <td>172.0</td>\n",
       "    </tr>\n",
       "    <tr>\n",
       "      <th>7</th>\n",
       "      <td>2012</td>\n",
       "      <td>512000</td>\n",
       "      <td>16.4</td>\n",
       "      <td>1.750</td>\n",
       "      <td>NaN</td>\n",
       "      <td>316</td>\n",
       "      <td>81.2</td>\n",
       "      <td>20.4</td>\n",
       "      <td>10.50</td>\n",
       "      <td>0.785</td>\n",
       "      <td>2.71</td>\n",
       "      <td>0.914</td>\n",
       "      <td>179.0</td>\n",
       "    </tr>\n",
       "    <tr>\n",
       "      <th>8</th>\n",
       "      <td>2013</td>\n",
       "      <td>521000</td>\n",
       "      <td>NaN</td>\n",
       "      <td>1.890</td>\n",
       "      <td>NaN</td>\n",
       "      <td>319</td>\n",
       "      <td>81.1</td>\n",
       "      <td>20.8</td>\n",
       "      <td>11.00</td>\n",
       "      <td>0.665</td>\n",
       "      <td>2.72</td>\n",
       "      <td>0.915</td>\n",
       "      <td>178.0</td>\n",
       "    </tr>\n",
       "    <tr>\n",
       "      <th>9</th>\n",
       "      <td>2014</td>\n",
       "      <td>532000</td>\n",
       "      <td>NaN</td>\n",
       "      <td>1.070</td>\n",
       "      <td>NaN</td>\n",
       "      <td>321</td>\n",
       "      <td>81.0</td>\n",
       "      <td>21.1</td>\n",
       "      <td>11.20</td>\n",
       "      <td>0.274</td>\n",
       "      <td>2.72</td>\n",
       "      <td>0.917</td>\n",
       "      <td>177.0</td>\n",
       "    </tr>\n",
       "    <tr>\n",
       "      <th>10</th>\n",
       "      <td>2015</td>\n",
       "      <td>536000</td>\n",
       "      <td>NaN</td>\n",
       "      <td>1.090</td>\n",
       "      <td>NaN</td>\n",
       "      <td>323</td>\n",
       "      <td>81.5</td>\n",
       "      <td>20.4</td>\n",
       "      <td>10.90</td>\n",
       "      <td>0.339</td>\n",
       "      <td>2.76</td>\n",
       "      <td>0.919</td>\n",
       "      <td>NaN</td>\n",
       "    </tr>\n",
       "  </tbody>\n",
       "</table>\n",
       "</div>"
      ],
      "text/plain": [
       "    year  income  gdp_trillions  inflation_p  interest_rate_p  population_m  \\\n",
       "0   2005  504000           15.2        3.030              1.0           298   \n",
       "1   2006  509000           15.5        2.690              1.0           301   \n",
       "2   2007  504000           15.4        1.950              2.0           303   \n",
       "3   2008  486000           14.9        0.762              3.0           306   \n",
       "4   2009  495000           15.3        1.170              5.0           309   \n",
       "5   2010  499000           15.6        2.090              6.0           312   \n",
       "6   2011  506000           16.1        1.920              NaN           314   \n",
       "7   2012  512000           16.4        1.750              NaN           316   \n",
       "8   2013  521000            NaN        1.890              NaN           319   \n",
       "9   2014  532000            NaN        1.070              NaN           321   \n",
       "10  2015  536000            NaN        1.090              NaN           323   \n",
       "\n",
       "    labor_participation  inv_p  tax_rev_p  natural_resources_rent_p  \\\n",
       "0                  83.0   23.5      11.30                     1.090   \n",
       "1                  83.1   22.6      11.30                     1.040   \n",
       "2                  83.2   21.1      10.30                     1.910   \n",
       "3                  82.7   17.8       7.92                     0.771   \n",
       "4                  82.3   18.7       8.60                     0.917   \n",
       "5                  81.7   19.1       9.57                     1.230   \n",
       "6                  81.6   20.0       9.80                     0.826   \n",
       "7                  81.2   20.4      10.50                     0.785   \n",
       "8                  81.1   20.8      11.00                     0.665   \n",
       "9                  81.0   21.1      11.20                     0.274   \n",
       "10                 81.5   20.4      10.90                     0.339   \n",
       "\n",
       "    research_inv_p    HDI  tech_exports_billions  \n",
       "0             2.56  0.899                  244.0  \n",
       "1             2.63  0.902                  247.0  \n",
       "2             2.77  0.907                  154.0  \n",
       "3             2.81  0.908                  169.0  \n",
       "4             2.74  0.911                  169.0  \n",
       "5             2.77  0.914                  172.0  \n",
       "6             2.68  0.916                  172.0  \n",
       "7             2.71  0.914                  179.0  \n",
       "8             2.72  0.915                  178.0  \n",
       "9             2.72  0.917                  177.0  \n",
       "10            2.76  0.919                    NaN  "
      ]
     },
     "execution_count": 77,
     "metadata": {},
     "output_type": "execute_result"
    }
   ],
   "source": [
    "usa"
   ]
  },
  {
   "cell_type": "code",
   "execution_count": 78,
   "metadata": {
    "scrolled": true
   },
   "outputs": [],
   "source": [
    "usa = usa.fillna(usa.mean())"
   ]
  },
  {
   "cell_type": "code",
   "execution_count": 79,
   "metadata": {
    "scrolled": true
   },
   "outputs": [],
   "source": [
    "second_column = usa.pop('gdp_trillions')\n",
    "usa.insert(1,'gdp_trillions', second_column)"
   ]
  },
  {
   "cell_type": "code",
   "execution_count": 80,
   "metadata": {
    "scrolled": true
   },
   "outputs": [
    {
     "data": {
      "text/html": [
       "<div>\n",
       "<style scoped>\n",
       "    .dataframe tbody tr th:only-of-type {\n",
       "        vertical-align: middle;\n",
       "    }\n",
       "\n",
       "    .dataframe tbody tr th {\n",
       "        vertical-align: top;\n",
       "    }\n",
       "\n",
       "    .dataframe thead th {\n",
       "        text-align: right;\n",
       "    }\n",
       "</style>\n",
       "<table border=\"1\" class=\"dataframe\">\n",
       "  <thead>\n",
       "    <tr style=\"text-align: right;\">\n",
       "      <th></th>\n",
       "      <th>year</th>\n",
       "      <th>gdp_trillions</th>\n",
       "      <th>income</th>\n",
       "      <th>inflation_p</th>\n",
       "      <th>interest_rate_p</th>\n",
       "      <th>population_m</th>\n",
       "      <th>labor_participation</th>\n",
       "      <th>inv_p</th>\n",
       "      <th>tax_rev_p</th>\n",
       "      <th>natural_resources_rent_p</th>\n",
       "      <th>research_inv_p</th>\n",
       "      <th>HDI</th>\n",
       "      <th>tech_exports_billions</th>\n",
       "    </tr>\n",
       "  </thead>\n",
       "  <tbody>\n",
       "    <tr>\n",
       "      <th>0</th>\n",
       "      <td>2005</td>\n",
       "      <td>15.20</td>\n",
       "      <td>504000</td>\n",
       "      <td>3.030</td>\n",
       "      <td>1.0</td>\n",
       "      <td>298</td>\n",
       "      <td>83.0</td>\n",
       "      <td>23.5</td>\n",
       "      <td>11.30</td>\n",
       "      <td>1.090</td>\n",
       "      <td>2.56</td>\n",
       "      <td>0.899</td>\n",
       "      <td>244.0</td>\n",
       "    </tr>\n",
       "    <tr>\n",
       "      <th>1</th>\n",
       "      <td>2006</td>\n",
       "      <td>15.50</td>\n",
       "      <td>509000</td>\n",
       "      <td>2.690</td>\n",
       "      <td>1.0</td>\n",
       "      <td>301</td>\n",
       "      <td>83.1</td>\n",
       "      <td>22.6</td>\n",
       "      <td>11.30</td>\n",
       "      <td>1.040</td>\n",
       "      <td>2.63</td>\n",
       "      <td>0.902</td>\n",
       "      <td>247.0</td>\n",
       "    </tr>\n",
       "    <tr>\n",
       "      <th>2</th>\n",
       "      <td>2007</td>\n",
       "      <td>15.40</td>\n",
       "      <td>504000</td>\n",
       "      <td>1.950</td>\n",
       "      <td>2.0</td>\n",
       "      <td>303</td>\n",
       "      <td>83.2</td>\n",
       "      <td>21.1</td>\n",
       "      <td>10.30</td>\n",
       "      <td>1.910</td>\n",
       "      <td>2.77</td>\n",
       "      <td>0.907</td>\n",
       "      <td>154.0</td>\n",
       "    </tr>\n",
       "    <tr>\n",
       "      <th>3</th>\n",
       "      <td>2008</td>\n",
       "      <td>14.90</td>\n",
       "      <td>486000</td>\n",
       "      <td>0.762</td>\n",
       "      <td>3.0</td>\n",
       "      <td>306</td>\n",
       "      <td>82.7</td>\n",
       "      <td>17.8</td>\n",
       "      <td>7.92</td>\n",
       "      <td>0.771</td>\n",
       "      <td>2.81</td>\n",
       "      <td>0.908</td>\n",
       "      <td>169.0</td>\n",
       "    </tr>\n",
       "    <tr>\n",
       "      <th>4</th>\n",
       "      <td>2009</td>\n",
       "      <td>15.30</td>\n",
       "      <td>495000</td>\n",
       "      <td>1.170</td>\n",
       "      <td>5.0</td>\n",
       "      <td>309</td>\n",
       "      <td>82.3</td>\n",
       "      <td>18.7</td>\n",
       "      <td>8.60</td>\n",
       "      <td>0.917</td>\n",
       "      <td>2.74</td>\n",
       "      <td>0.911</td>\n",
       "      <td>169.0</td>\n",
       "    </tr>\n",
       "    <tr>\n",
       "      <th>5</th>\n",
       "      <td>2010</td>\n",
       "      <td>15.60</td>\n",
       "      <td>499000</td>\n",
       "      <td>2.090</td>\n",
       "      <td>6.0</td>\n",
       "      <td>312</td>\n",
       "      <td>81.7</td>\n",
       "      <td>19.1</td>\n",
       "      <td>9.57</td>\n",
       "      <td>1.230</td>\n",
       "      <td>2.77</td>\n",
       "      <td>0.914</td>\n",
       "      <td>172.0</td>\n",
       "    </tr>\n",
       "    <tr>\n",
       "      <th>6</th>\n",
       "      <td>2011</td>\n",
       "      <td>16.10</td>\n",
       "      <td>506000</td>\n",
       "      <td>1.920</td>\n",
       "      <td>3.0</td>\n",
       "      <td>314</td>\n",
       "      <td>81.6</td>\n",
       "      <td>20.0</td>\n",
       "      <td>9.80</td>\n",
       "      <td>0.826</td>\n",
       "      <td>2.68</td>\n",
       "      <td>0.916</td>\n",
       "      <td>172.0</td>\n",
       "    </tr>\n",
       "    <tr>\n",
       "      <th>7</th>\n",
       "      <td>2012</td>\n",
       "      <td>16.40</td>\n",
       "      <td>512000</td>\n",
       "      <td>1.750</td>\n",
       "      <td>3.0</td>\n",
       "      <td>316</td>\n",
       "      <td>81.2</td>\n",
       "      <td>20.4</td>\n",
       "      <td>10.50</td>\n",
       "      <td>0.785</td>\n",
       "      <td>2.71</td>\n",
       "      <td>0.914</td>\n",
       "      <td>179.0</td>\n",
       "    </tr>\n",
       "    <tr>\n",
       "      <th>8</th>\n",
       "      <td>2013</td>\n",
       "      <td>15.55</td>\n",
       "      <td>521000</td>\n",
       "      <td>1.890</td>\n",
       "      <td>3.0</td>\n",
       "      <td>319</td>\n",
       "      <td>81.1</td>\n",
       "      <td>20.8</td>\n",
       "      <td>11.00</td>\n",
       "      <td>0.665</td>\n",
       "      <td>2.72</td>\n",
       "      <td>0.915</td>\n",
       "      <td>178.0</td>\n",
       "    </tr>\n",
       "    <tr>\n",
       "      <th>9</th>\n",
       "      <td>2014</td>\n",
       "      <td>15.55</td>\n",
       "      <td>532000</td>\n",
       "      <td>1.070</td>\n",
       "      <td>3.0</td>\n",
       "      <td>321</td>\n",
       "      <td>81.0</td>\n",
       "      <td>21.1</td>\n",
       "      <td>11.20</td>\n",
       "      <td>0.274</td>\n",
       "      <td>2.72</td>\n",
       "      <td>0.917</td>\n",
       "      <td>177.0</td>\n",
       "    </tr>\n",
       "    <tr>\n",
       "      <th>10</th>\n",
       "      <td>2015</td>\n",
       "      <td>15.55</td>\n",
       "      <td>536000</td>\n",
       "      <td>1.090</td>\n",
       "      <td>3.0</td>\n",
       "      <td>323</td>\n",
       "      <td>81.5</td>\n",
       "      <td>20.4</td>\n",
       "      <td>10.90</td>\n",
       "      <td>0.339</td>\n",
       "      <td>2.76</td>\n",
       "      <td>0.919</td>\n",
       "      <td>186.1</td>\n",
       "    </tr>\n",
       "  </tbody>\n",
       "</table>\n",
       "</div>"
      ],
      "text/plain": [
       "    year  gdp_trillions  income  inflation_p  interest_rate_p  population_m  \\\n",
       "0   2005          15.20  504000        3.030              1.0           298   \n",
       "1   2006          15.50  509000        2.690              1.0           301   \n",
       "2   2007          15.40  504000        1.950              2.0           303   \n",
       "3   2008          14.90  486000        0.762              3.0           306   \n",
       "4   2009          15.30  495000        1.170              5.0           309   \n",
       "5   2010          15.60  499000        2.090              6.0           312   \n",
       "6   2011          16.10  506000        1.920              3.0           314   \n",
       "7   2012          16.40  512000        1.750              3.0           316   \n",
       "8   2013          15.55  521000        1.890              3.0           319   \n",
       "9   2014          15.55  532000        1.070              3.0           321   \n",
       "10  2015          15.55  536000        1.090              3.0           323   \n",
       "\n",
       "    labor_participation  inv_p  tax_rev_p  natural_resources_rent_p  \\\n",
       "0                  83.0   23.5      11.30                     1.090   \n",
       "1                  83.1   22.6      11.30                     1.040   \n",
       "2                  83.2   21.1      10.30                     1.910   \n",
       "3                  82.7   17.8       7.92                     0.771   \n",
       "4                  82.3   18.7       8.60                     0.917   \n",
       "5                  81.7   19.1       9.57                     1.230   \n",
       "6                  81.6   20.0       9.80                     0.826   \n",
       "7                  81.2   20.4      10.50                     0.785   \n",
       "8                  81.1   20.8      11.00                     0.665   \n",
       "9                  81.0   21.1      11.20                     0.274   \n",
       "10                 81.5   20.4      10.90                     0.339   \n",
       "\n",
       "    research_inv_p    HDI  tech_exports_billions  \n",
       "0             2.56  0.899                  244.0  \n",
       "1             2.63  0.902                  247.0  \n",
       "2             2.77  0.907                  154.0  \n",
       "3             2.81  0.908                  169.0  \n",
       "4             2.74  0.911                  169.0  \n",
       "5             2.77  0.914                  172.0  \n",
       "6             2.68  0.916                  172.0  \n",
       "7             2.71  0.914                  179.0  \n",
       "8             2.72  0.915                  178.0  \n",
       "9             2.72  0.917                  177.0  \n",
       "10            2.76  0.919                  186.1  "
      ]
     },
     "execution_count": 80,
     "metadata": {},
     "output_type": "execute_result"
    }
   ],
   "source": [
    "usa"
   ]
  },
  {
   "cell_type": "code",
   "execution_count": 81,
   "metadata": {
    "scrolled": true
   },
   "outputs": [],
   "source": [
    "usa_gdp = pd.DataFrame(usa['year'])\n",
    "usa_gdp['gdp'] = usa['gdp_trillions']*1000000000000\n",
    "usa_gdp['income'] = usa['income']\n",
    "usa_gdp['population'] = usa['population_m']*1000000\n",
    "usa_gdp['labor_force']= (usa['labor_participation']*usa_gdp['population'])/100\n",
    "usa_gdp['investment'] = (usa['inv_p']*usa_gdp['gdp'])/100\n",
    "usa_gdp['tax_revenue'] = (usa['tax_rev_p']*usa_gdp['gdp'])/100\n",
    "usa_gdp['natural_resources'] = (usa['natural_resources_rent_p']*usa_gdp['gdp'])/100\n",
    "usa_gdp['research_inv'] =(usa['research_inv_p']*usa_gdp['gdp'])/100\n",
    "\n",
    "usa_gdp_yoy = pd.DataFrame(usa_gdp['year'])\n",
    "usa_gdp_yoy['gdp'] = (usa_gdp['gdp'].pct_change())*100\n",
    "usa_gdp_yoy['income'] = (usa_gdp['income'].pct_change())*100\n",
    "usa_gdp_yoy['population'] = (usa_gdp['population'].pct_change())*100\n",
    "usa_gdp_yoy['labor_force'] = (usa_gdp['labor_force'].pct_change())*100\n",
    "usa_gdp_yoy['investment'] = (usa_gdp['investment'].pct_change())*100\n",
    "usa_gdp_yoy['tax_revenue'] = (usa_gdp['tax_revenue'].pct_change())*100\n",
    "usa_gdp_yoy['natural_resources'] = (usa_gdp['natural_resources'].pct_change())*100\n",
    "usa_gdp_yoy['research_inv']  = (usa_gdp['research_inv'].pct_change())*100\n",
    "usa_gdp_yoy['inflation'] = (usa['inflation_p'].pct_change())*100"
   ]
  },
  {
   "cell_type": "code",
   "execution_count": 82,
   "metadata": {
    "scrolled": true
   },
   "outputs": [
    {
     "data": {
      "text/html": [
       "<div>\n",
       "<style scoped>\n",
       "    .dataframe tbody tr th:only-of-type {\n",
       "        vertical-align: middle;\n",
       "    }\n",
       "\n",
       "    .dataframe tbody tr th {\n",
       "        vertical-align: top;\n",
       "    }\n",
       "\n",
       "    .dataframe thead th {\n",
       "        text-align: right;\n",
       "    }\n",
       "</style>\n",
       "<table border=\"1\" class=\"dataframe\">\n",
       "  <thead>\n",
       "    <tr style=\"text-align: right;\">\n",
       "      <th></th>\n",
       "      <th>year</th>\n",
       "      <th>gdp</th>\n",
       "      <th>income</th>\n",
       "      <th>population</th>\n",
       "      <th>labor_force</th>\n",
       "      <th>investment</th>\n",
       "      <th>tax_revenue</th>\n",
       "      <th>natural_resources</th>\n",
       "      <th>research_inv</th>\n",
       "    </tr>\n",
       "  </thead>\n",
       "  <tbody>\n",
       "    <tr>\n",
       "      <th>0</th>\n",
       "      <td>2005</td>\n",
       "      <td>1.520000e+13</td>\n",
       "      <td>504000</td>\n",
       "      <td>298000000</td>\n",
       "      <td>247340000.0</td>\n",
       "      <td>3.572000e+12</td>\n",
       "      <td>1.717600e+12</td>\n",
       "      <td>1.656800e+11</td>\n",
       "      <td>3.891200e+11</td>\n",
       "    </tr>\n",
       "    <tr>\n",
       "      <th>1</th>\n",
       "      <td>2006</td>\n",
       "      <td>1.550000e+13</td>\n",
       "      <td>509000</td>\n",
       "      <td>301000000</td>\n",
       "      <td>250131000.0</td>\n",
       "      <td>3.503000e+12</td>\n",
       "      <td>1.751500e+12</td>\n",
       "      <td>1.612000e+11</td>\n",
       "      <td>4.076500e+11</td>\n",
       "    </tr>\n",
       "    <tr>\n",
       "      <th>2</th>\n",
       "      <td>2007</td>\n",
       "      <td>1.540000e+13</td>\n",
       "      <td>504000</td>\n",
       "      <td>303000000</td>\n",
       "      <td>252096000.0</td>\n",
       "      <td>3.249400e+12</td>\n",
       "      <td>1.586200e+12</td>\n",
       "      <td>2.941400e+11</td>\n",
       "      <td>4.265800e+11</td>\n",
       "    </tr>\n",
       "    <tr>\n",
       "      <th>3</th>\n",
       "      <td>2008</td>\n",
       "      <td>1.490000e+13</td>\n",
       "      <td>486000</td>\n",
       "      <td>306000000</td>\n",
       "      <td>253062000.0</td>\n",
       "      <td>2.652200e+12</td>\n",
       "      <td>1.180080e+12</td>\n",
       "      <td>1.148790e+11</td>\n",
       "      <td>4.186900e+11</td>\n",
       "    </tr>\n",
       "    <tr>\n",
       "      <th>4</th>\n",
       "      <td>2009</td>\n",
       "      <td>1.530000e+13</td>\n",
       "      <td>495000</td>\n",
       "      <td>309000000</td>\n",
       "      <td>254307000.0</td>\n",
       "      <td>2.861100e+12</td>\n",
       "      <td>1.315800e+12</td>\n",
       "      <td>1.403010e+11</td>\n",
       "      <td>4.192200e+11</td>\n",
       "    </tr>\n",
       "    <tr>\n",
       "      <th>5</th>\n",
       "      <td>2010</td>\n",
       "      <td>1.560000e+13</td>\n",
       "      <td>499000</td>\n",
       "      <td>312000000</td>\n",
       "      <td>254904000.0</td>\n",
       "      <td>2.979600e+12</td>\n",
       "      <td>1.492920e+12</td>\n",
       "      <td>1.918800e+11</td>\n",
       "      <td>4.321200e+11</td>\n",
       "    </tr>\n",
       "    <tr>\n",
       "      <th>6</th>\n",
       "      <td>2011</td>\n",
       "      <td>1.610000e+13</td>\n",
       "      <td>506000</td>\n",
       "      <td>314000000</td>\n",
       "      <td>256224000.0</td>\n",
       "      <td>3.220000e+12</td>\n",
       "      <td>1.577800e+12</td>\n",
       "      <td>1.329860e+11</td>\n",
       "      <td>4.314800e+11</td>\n",
       "    </tr>\n",
       "    <tr>\n",
       "      <th>7</th>\n",
       "      <td>2012</td>\n",
       "      <td>1.640000e+13</td>\n",
       "      <td>512000</td>\n",
       "      <td>316000000</td>\n",
       "      <td>256592000.0</td>\n",
       "      <td>3.345600e+12</td>\n",
       "      <td>1.722000e+12</td>\n",
       "      <td>1.287400e+11</td>\n",
       "      <td>4.444400e+11</td>\n",
       "    </tr>\n",
       "    <tr>\n",
       "      <th>8</th>\n",
       "      <td>2013</td>\n",
       "      <td>1.555000e+13</td>\n",
       "      <td>521000</td>\n",
       "      <td>319000000</td>\n",
       "      <td>258709000.0</td>\n",
       "      <td>3.234400e+12</td>\n",
       "      <td>1.710500e+12</td>\n",
       "      <td>1.034075e+11</td>\n",
       "      <td>4.229600e+11</td>\n",
       "    </tr>\n",
       "    <tr>\n",
       "      <th>9</th>\n",
       "      <td>2014</td>\n",
       "      <td>1.555000e+13</td>\n",
       "      <td>532000</td>\n",
       "      <td>321000000</td>\n",
       "      <td>260010000.0</td>\n",
       "      <td>3.281050e+12</td>\n",
       "      <td>1.741600e+12</td>\n",
       "      <td>4.260700e+10</td>\n",
       "      <td>4.229600e+11</td>\n",
       "    </tr>\n",
       "    <tr>\n",
       "      <th>10</th>\n",
       "      <td>2015</td>\n",
       "      <td>1.555000e+13</td>\n",
       "      <td>536000</td>\n",
       "      <td>323000000</td>\n",
       "      <td>263245000.0</td>\n",
       "      <td>3.172200e+12</td>\n",
       "      <td>1.694950e+12</td>\n",
       "      <td>5.271450e+10</td>\n",
       "      <td>4.291800e+11</td>\n",
       "    </tr>\n",
       "  </tbody>\n",
       "</table>\n",
       "</div>"
      ],
      "text/plain": [
       "    year           gdp  income  population  labor_force    investment  \\\n",
       "0   2005  1.520000e+13  504000   298000000  247340000.0  3.572000e+12   \n",
       "1   2006  1.550000e+13  509000   301000000  250131000.0  3.503000e+12   \n",
       "2   2007  1.540000e+13  504000   303000000  252096000.0  3.249400e+12   \n",
       "3   2008  1.490000e+13  486000   306000000  253062000.0  2.652200e+12   \n",
       "4   2009  1.530000e+13  495000   309000000  254307000.0  2.861100e+12   \n",
       "5   2010  1.560000e+13  499000   312000000  254904000.0  2.979600e+12   \n",
       "6   2011  1.610000e+13  506000   314000000  256224000.0  3.220000e+12   \n",
       "7   2012  1.640000e+13  512000   316000000  256592000.0  3.345600e+12   \n",
       "8   2013  1.555000e+13  521000   319000000  258709000.0  3.234400e+12   \n",
       "9   2014  1.555000e+13  532000   321000000  260010000.0  3.281050e+12   \n",
       "10  2015  1.555000e+13  536000   323000000  263245000.0  3.172200e+12   \n",
       "\n",
       "     tax_revenue  natural_resources  research_inv  \n",
       "0   1.717600e+12       1.656800e+11  3.891200e+11  \n",
       "1   1.751500e+12       1.612000e+11  4.076500e+11  \n",
       "2   1.586200e+12       2.941400e+11  4.265800e+11  \n",
       "3   1.180080e+12       1.148790e+11  4.186900e+11  \n",
       "4   1.315800e+12       1.403010e+11  4.192200e+11  \n",
       "5   1.492920e+12       1.918800e+11  4.321200e+11  \n",
       "6   1.577800e+12       1.329860e+11  4.314800e+11  \n",
       "7   1.722000e+12       1.287400e+11  4.444400e+11  \n",
       "8   1.710500e+12       1.034075e+11  4.229600e+11  \n",
       "9   1.741600e+12       4.260700e+10  4.229600e+11  \n",
       "10  1.694950e+12       5.271450e+10  4.291800e+11  "
      ]
     },
     "execution_count": 82,
     "metadata": {},
     "output_type": "execute_result"
    }
   ],
   "source": [
    "usa_gdp"
   ]
  },
  {
   "cell_type": "code",
   "execution_count": 83,
   "metadata": {
    "scrolled": true
   },
   "outputs": [
    {
     "data": {
      "text/html": [
       "<div>\n",
       "<style scoped>\n",
       "    .dataframe tbody tr th:only-of-type {\n",
       "        vertical-align: middle;\n",
       "    }\n",
       "\n",
       "    .dataframe tbody tr th {\n",
       "        vertical-align: top;\n",
       "    }\n",
       "\n",
       "    .dataframe thead th {\n",
       "        text-align: right;\n",
       "    }\n",
       "</style>\n",
       "<table border=\"1\" class=\"dataframe\">\n",
       "  <thead>\n",
       "    <tr style=\"text-align: right;\">\n",
       "      <th></th>\n",
       "      <th>year</th>\n",
       "      <th>gdp</th>\n",
       "      <th>income</th>\n",
       "      <th>population</th>\n",
       "      <th>labor_force</th>\n",
       "      <th>investment</th>\n",
       "      <th>tax_revenue</th>\n",
       "      <th>natural_resources</th>\n",
       "      <th>research_inv</th>\n",
       "      <th>inflation</th>\n",
       "    </tr>\n",
       "  </thead>\n",
       "  <tbody>\n",
       "    <tr>\n",
       "      <th>0</th>\n",
       "      <td>2005</td>\n",
       "      <td>NaN</td>\n",
       "      <td>NaN</td>\n",
       "      <td>NaN</td>\n",
       "      <td>NaN</td>\n",
       "      <td>NaN</td>\n",
       "      <td>NaN</td>\n",
       "      <td>NaN</td>\n",
       "      <td>NaN</td>\n",
       "      <td>NaN</td>\n",
       "    </tr>\n",
       "    <tr>\n",
       "      <th>1</th>\n",
       "      <td>2006</td>\n",
       "      <td>1.973684</td>\n",
       "      <td>0.992063</td>\n",
       "      <td>1.006711</td>\n",
       "      <td>1.128406</td>\n",
       "      <td>-1.931691</td>\n",
       "      <td>1.973684</td>\n",
       "      <td>-2.704008</td>\n",
       "      <td>4.762027</td>\n",
       "      <td>-11.221122</td>\n",
       "    </tr>\n",
       "    <tr>\n",
       "      <th>2</th>\n",
       "      <td>2007</td>\n",
       "      <td>-0.645161</td>\n",
       "      <td>-0.982318</td>\n",
       "      <td>0.664452</td>\n",
       "      <td>0.785588</td>\n",
       "      <td>-7.239509</td>\n",
       "      <td>-9.437625</td>\n",
       "      <td>82.468983</td>\n",
       "      <td>4.643689</td>\n",
       "      <td>-27.509294</td>\n",
       "    </tr>\n",
       "    <tr>\n",
       "      <th>3</th>\n",
       "      <td>2008</td>\n",
       "      <td>-3.246753</td>\n",
       "      <td>-3.571429</td>\n",
       "      <td>0.990099</td>\n",
       "      <td>0.383187</td>\n",
       "      <td>-18.378778</td>\n",
       "      <td>-25.603329</td>\n",
       "      <td>-60.944108</td>\n",
       "      <td>-1.849594</td>\n",
       "      <td>-60.923077</td>\n",
       "    </tr>\n",
       "    <tr>\n",
       "      <th>4</th>\n",
       "      <td>2009</td>\n",
       "      <td>2.684564</td>\n",
       "      <td>1.851852</td>\n",
       "      <td>0.980392</td>\n",
       "      <td>0.491974</td>\n",
       "      <td>7.876480</td>\n",
       "      <td>11.500915</td>\n",
       "      <td>22.129371</td>\n",
       "      <td>0.126585</td>\n",
       "      <td>53.543307</td>\n",
       "    </tr>\n",
       "    <tr>\n",
       "      <th>5</th>\n",
       "      <td>2010</td>\n",
       "      <td>1.960784</td>\n",
       "      <td>0.808081</td>\n",
       "      <td>0.970874</td>\n",
       "      <td>0.234756</td>\n",
       "      <td>4.141764</td>\n",
       "      <td>13.461012</td>\n",
       "      <td>36.763102</td>\n",
       "      <td>3.077143</td>\n",
       "      <td>78.632479</td>\n",
       "    </tr>\n",
       "    <tr>\n",
       "      <th>6</th>\n",
       "      <td>2011</td>\n",
       "      <td>3.205128</td>\n",
       "      <td>1.402806</td>\n",
       "      <td>0.641026</td>\n",
       "      <td>0.517842</td>\n",
       "      <td>8.068197</td>\n",
       "      <td>5.685502</td>\n",
       "      <td>-30.693142</td>\n",
       "      <td>-0.148107</td>\n",
       "      <td>-8.133971</td>\n",
       "    </tr>\n",
       "    <tr>\n",
       "      <th>7</th>\n",
       "      <td>2012</td>\n",
       "      <td>1.863354</td>\n",
       "      <td>1.185771</td>\n",
       "      <td>0.636943</td>\n",
       "      <td>0.143624</td>\n",
       "      <td>3.900621</td>\n",
       "      <td>9.139308</td>\n",
       "      <td>-3.192817</td>\n",
       "      <td>3.003615</td>\n",
       "      <td>-8.854167</td>\n",
       "    </tr>\n",
       "    <tr>\n",
       "      <th>8</th>\n",
       "      <td>2013</td>\n",
       "      <td>-5.182927</td>\n",
       "      <td>1.757812</td>\n",
       "      <td>0.949367</td>\n",
       "      <td>0.825045</td>\n",
       "      <td>-3.323769</td>\n",
       "      <td>-0.667828</td>\n",
       "      <td>-19.677256</td>\n",
       "      <td>-4.833048</td>\n",
       "      <td>8.000000</td>\n",
       "    </tr>\n",
       "    <tr>\n",
       "      <th>9</th>\n",
       "      <td>2014</td>\n",
       "      <td>0.000000</td>\n",
       "      <td>2.111324</td>\n",
       "      <td>0.626959</td>\n",
       "      <td>0.502882</td>\n",
       "      <td>1.442308</td>\n",
       "      <td>1.818182</td>\n",
       "      <td>-58.796992</td>\n",
       "      <td>0.000000</td>\n",
       "      <td>-43.386243</td>\n",
       "    </tr>\n",
       "    <tr>\n",
       "      <th>10</th>\n",
       "      <td>2015</td>\n",
       "      <td>0.000000</td>\n",
       "      <td>0.751880</td>\n",
       "      <td>0.623053</td>\n",
       "      <td>1.244183</td>\n",
       "      <td>-3.317536</td>\n",
       "      <td>-2.678571</td>\n",
       "      <td>23.722628</td>\n",
       "      <td>1.470588</td>\n",
       "      <td>1.869159</td>\n",
       "    </tr>\n",
       "  </tbody>\n",
       "</table>\n",
       "</div>"
      ],
      "text/plain": [
       "    year       gdp    income  population  labor_force  investment  \\\n",
       "0   2005       NaN       NaN         NaN          NaN         NaN   \n",
       "1   2006  1.973684  0.992063    1.006711     1.128406   -1.931691   \n",
       "2   2007 -0.645161 -0.982318    0.664452     0.785588   -7.239509   \n",
       "3   2008 -3.246753 -3.571429    0.990099     0.383187  -18.378778   \n",
       "4   2009  2.684564  1.851852    0.980392     0.491974    7.876480   \n",
       "5   2010  1.960784  0.808081    0.970874     0.234756    4.141764   \n",
       "6   2011  3.205128  1.402806    0.641026     0.517842    8.068197   \n",
       "7   2012  1.863354  1.185771    0.636943     0.143624    3.900621   \n",
       "8   2013 -5.182927  1.757812    0.949367     0.825045   -3.323769   \n",
       "9   2014  0.000000  2.111324    0.626959     0.502882    1.442308   \n",
       "10  2015  0.000000  0.751880    0.623053     1.244183   -3.317536   \n",
       "\n",
       "    tax_revenue  natural_resources  research_inv  inflation  \n",
       "0           NaN                NaN           NaN        NaN  \n",
       "1      1.973684          -2.704008      4.762027 -11.221122  \n",
       "2     -9.437625          82.468983      4.643689 -27.509294  \n",
       "3    -25.603329         -60.944108     -1.849594 -60.923077  \n",
       "4     11.500915          22.129371      0.126585  53.543307  \n",
       "5     13.461012          36.763102      3.077143  78.632479  \n",
       "6      5.685502         -30.693142     -0.148107  -8.133971  \n",
       "7      9.139308          -3.192817      3.003615  -8.854167  \n",
       "8     -0.667828         -19.677256     -4.833048   8.000000  \n",
       "9      1.818182         -58.796992      0.000000 -43.386243  \n",
       "10    -2.678571          23.722628      1.470588   1.869159  "
      ]
     },
     "execution_count": 83,
     "metadata": {},
     "output_type": "execute_result"
    }
   ],
   "source": [
    "usa_gdp_yoy"
   ]
  },
  {
   "cell_type": "markdown",
   "metadata": {},
   "source": [
    "# <a id='eda'></a>\n",
    "## Exploratory Data Analysis\n",
    "\n",
    "\n",
    "### Research Question 1 -\n",
    "### For the highest HDI what were the features corresponding to it?"
   ]
  },
  {
   "cell_type": "code",
   "execution_count": 84,
   "metadata": {},
   "outputs": [
    {
     "data": {
      "text/html": [
       "<div>\n",
       "<style scoped>\n",
       "    .dataframe tbody tr th:only-of-type {\n",
       "        vertical-align: middle;\n",
       "    }\n",
       "\n",
       "    .dataframe tbody tr th {\n",
       "        vertical-align: top;\n",
       "    }\n",
       "\n",
       "    .dataframe thead th {\n",
       "        text-align: right;\n",
       "    }\n",
       "</style>\n",
       "<table border=\"1\" class=\"dataframe\">\n",
       "  <thead>\n",
       "    <tr style=\"text-align: right;\">\n",
       "      <th></th>\n",
       "      <th>gdp_trillions</th>\n",
       "      <th>income</th>\n",
       "      <th>inflation_p</th>\n",
       "      <th>interest_rate_p</th>\n",
       "      <th>population_m</th>\n",
       "      <th>labor_participation</th>\n",
       "      <th>inv_p</th>\n",
       "      <th>tax_rev_p</th>\n",
       "      <th>natural_resources_rent_p</th>\n",
       "      <th>research_inv_p</th>\n",
       "      <th>HDI</th>\n",
       "      <th>tech_exports_billions</th>\n",
       "    </tr>\n",
       "  </thead>\n",
       "  <tbody>\n",
       "    <tr>\n",
       "      <th>count</th>\n",
       "      <td>11.000000</td>\n",
       "      <td>11.000000</td>\n",
       "      <td>11.000000</td>\n",
       "      <td>11.00000</td>\n",
       "      <td>11.000000</td>\n",
       "      <td>11.000000</td>\n",
       "      <td>11.000000</td>\n",
       "      <td>11.000000</td>\n",
       "      <td>11.000000</td>\n",
       "      <td>11.000000</td>\n",
       "      <td>11.000000</td>\n",
       "      <td>11.000000</td>\n",
       "    </tr>\n",
       "    <tr>\n",
       "      <th>mean</th>\n",
       "      <td>15.550000</td>\n",
       "      <td>509454.545455</td>\n",
       "      <td>1.764727</td>\n",
       "      <td>3.00000</td>\n",
       "      <td>311.090909</td>\n",
       "      <td>82.036364</td>\n",
       "      <td>20.500000</td>\n",
       "      <td>10.217273</td>\n",
       "      <td>0.895182</td>\n",
       "      <td>2.715455</td>\n",
       "      <td>0.911091</td>\n",
       "      <td>186.100000</td>\n",
       "    </tr>\n",
       "    <tr>\n",
       "      <th>std</th>\n",
       "      <td>0.407431</td>\n",
       "      <td>15141.754432</td>\n",
       "      <td>0.702443</td>\n",
       "      <td>1.48324</td>\n",
       "      <td>8.395886</td>\n",
       "      <td>0.846490</td>\n",
       "      <td>1.642559</td>\n",
       "      <td>1.138509</td>\n",
       "      <td>0.445185</td>\n",
       "      <td>0.070903</td>\n",
       "      <td>0.006395</td>\n",
       "      <td>30.451437</td>\n",
       "    </tr>\n",
       "    <tr>\n",
       "      <th>min</th>\n",
       "      <td>14.900000</td>\n",
       "      <td>486000.000000</td>\n",
       "      <td>0.762000</td>\n",
       "      <td>1.00000</td>\n",
       "      <td>298.000000</td>\n",
       "      <td>81.000000</td>\n",
       "      <td>17.800000</td>\n",
       "      <td>7.920000</td>\n",
       "      <td>0.274000</td>\n",
       "      <td>2.560000</td>\n",
       "      <td>0.899000</td>\n",
       "      <td>154.000000</td>\n",
       "    </tr>\n",
       "    <tr>\n",
       "      <th>25%</th>\n",
       "      <td>15.350000</td>\n",
       "      <td>501500.000000</td>\n",
       "      <td>1.130000</td>\n",
       "      <td>2.50000</td>\n",
       "      <td>304.500000</td>\n",
       "      <td>81.350000</td>\n",
       "      <td>19.550000</td>\n",
       "      <td>9.685000</td>\n",
       "      <td>0.718000</td>\n",
       "      <td>2.695000</td>\n",
       "      <td>0.907500</td>\n",
       "      <td>170.500000</td>\n",
       "    </tr>\n",
       "    <tr>\n",
       "      <th>50%</th>\n",
       "      <td>15.550000</td>\n",
       "      <td>506000.000000</td>\n",
       "      <td>1.890000</td>\n",
       "      <td>3.00000</td>\n",
       "      <td>312.000000</td>\n",
       "      <td>81.700000</td>\n",
       "      <td>20.400000</td>\n",
       "      <td>10.500000</td>\n",
       "      <td>0.826000</td>\n",
       "      <td>2.720000</td>\n",
       "      <td>0.914000</td>\n",
       "      <td>177.000000</td>\n",
       "    </tr>\n",
       "    <tr>\n",
       "      <th>75%</th>\n",
       "      <td>15.575000</td>\n",
       "      <td>516500.000000</td>\n",
       "      <td>2.020000</td>\n",
       "      <td>3.00000</td>\n",
       "      <td>317.500000</td>\n",
       "      <td>82.850000</td>\n",
       "      <td>21.100000</td>\n",
       "      <td>11.100000</td>\n",
       "      <td>1.065000</td>\n",
       "      <td>2.765000</td>\n",
       "      <td>0.915500</td>\n",
       "      <td>182.550000</td>\n",
       "    </tr>\n",
       "    <tr>\n",
       "      <th>max</th>\n",
       "      <td>16.400000</td>\n",
       "      <td>536000.000000</td>\n",
       "      <td>3.030000</td>\n",
       "      <td>6.00000</td>\n",
       "      <td>323.000000</td>\n",
       "      <td>83.200000</td>\n",
       "      <td>23.500000</td>\n",
       "      <td>11.300000</td>\n",
       "      <td>1.910000</td>\n",
       "      <td>2.810000</td>\n",
       "      <td>0.919000</td>\n",
       "      <td>247.000000</td>\n",
       "    </tr>\n",
       "  </tbody>\n",
       "</table>\n",
       "</div>"
      ],
      "text/plain": [
       "       gdp_trillions         income  inflation_p  interest_rate_p  \\\n",
       "count      11.000000      11.000000    11.000000         11.00000   \n",
       "mean       15.550000  509454.545455     1.764727          3.00000   \n",
       "std         0.407431   15141.754432     0.702443          1.48324   \n",
       "min        14.900000  486000.000000     0.762000          1.00000   \n",
       "25%        15.350000  501500.000000     1.130000          2.50000   \n",
       "50%        15.550000  506000.000000     1.890000          3.00000   \n",
       "75%        15.575000  516500.000000     2.020000          3.00000   \n",
       "max        16.400000  536000.000000     3.030000          6.00000   \n",
       "\n",
       "       population_m  labor_participation      inv_p  tax_rev_p  \\\n",
       "count     11.000000            11.000000  11.000000  11.000000   \n",
       "mean     311.090909            82.036364  20.500000  10.217273   \n",
       "std        8.395886             0.846490   1.642559   1.138509   \n",
       "min      298.000000            81.000000  17.800000   7.920000   \n",
       "25%      304.500000            81.350000  19.550000   9.685000   \n",
       "50%      312.000000            81.700000  20.400000  10.500000   \n",
       "75%      317.500000            82.850000  21.100000  11.100000   \n",
       "max      323.000000            83.200000  23.500000  11.300000   \n",
       "\n",
       "       natural_resources_rent_p  research_inv_p        HDI  \\\n",
       "count                 11.000000       11.000000  11.000000   \n",
       "mean                   0.895182        2.715455   0.911091   \n",
       "std                    0.445185        0.070903   0.006395   \n",
       "min                    0.274000        2.560000   0.899000   \n",
       "25%                    0.718000        2.695000   0.907500   \n",
       "50%                    0.826000        2.720000   0.914000   \n",
       "75%                    1.065000        2.765000   0.915500   \n",
       "max                    1.910000        2.810000   0.919000   \n",
       "\n",
       "       tech_exports_billions  \n",
       "count              11.000000  \n",
       "mean              186.100000  \n",
       "std                30.451437  \n",
       "min               154.000000  \n",
       "25%               170.500000  \n",
       "50%               177.000000  \n",
       "75%               182.550000  \n",
       "max               247.000000  "
      ]
     },
     "execution_count": 84,
     "metadata": {},
     "output_type": "execute_result"
    }
   ],
   "source": [
    "usa.describe()"
   ]
  },
  {
   "cell_type": "code",
   "execution_count": 85,
   "metadata": {
    "scrolled": true
   },
   "outputs": [
    {
     "data": {
      "text/plain": [
       "count    11.000000\n",
       "mean      0.911091\n",
       "std       0.006395\n",
       "min       0.899000\n",
       "25%       0.907500\n",
       "50%       0.914000\n",
       "75%       0.915500\n",
       "max       0.919000\n",
       "Name: HDI, dtype: float64"
      ]
     },
     "execution_count": 85,
     "metadata": {},
     "output_type": "execute_result"
    }
   ],
   "source": [
    "usa['HDI'].describe()"
   ]
  },
  {
   "cell_type": "code",
   "execution_count": 86,
   "metadata": {
    "scrolled": true
   },
   "outputs": [
    {
     "data": {
      "text/html": [
       "<div>\n",
       "<style scoped>\n",
       "    .dataframe tbody tr th:only-of-type {\n",
       "        vertical-align: middle;\n",
       "    }\n",
       "\n",
       "    .dataframe tbody tr th {\n",
       "        vertical-align: top;\n",
       "    }\n",
       "\n",
       "    .dataframe thead th {\n",
       "        text-align: right;\n",
       "    }\n",
       "</style>\n",
       "<table border=\"1\" class=\"dataframe\">\n",
       "  <thead>\n",
       "    <tr style=\"text-align: right;\">\n",
       "      <th></th>\n",
       "      <th>year</th>\n",
       "      <th>gdp_trillions</th>\n",
       "      <th>income</th>\n",
       "      <th>inflation_p</th>\n",
       "      <th>interest_rate_p</th>\n",
       "      <th>population_m</th>\n",
       "      <th>labor_participation</th>\n",
       "      <th>inv_p</th>\n",
       "      <th>tax_rev_p</th>\n",
       "      <th>natural_resources_rent_p</th>\n",
       "      <th>research_inv_p</th>\n",
       "      <th>HDI</th>\n",
       "      <th>tech_exports_billions</th>\n",
       "    </tr>\n",
       "  </thead>\n",
       "  <tbody>\n",
       "    <tr>\n",
       "      <th>10</th>\n",
       "      <td>2015</td>\n",
       "      <td>15.55</td>\n",
       "      <td>536000</td>\n",
       "      <td>1.09</td>\n",
       "      <td>3.0</td>\n",
       "      <td>323</td>\n",
       "      <td>81.5</td>\n",
       "      <td>20.4</td>\n",
       "      <td>10.9</td>\n",
       "      <td>0.339</td>\n",
       "      <td>2.76</td>\n",
       "      <td>0.919</td>\n",
       "      <td>186.1</td>\n",
       "    </tr>\n",
       "  </tbody>\n",
       "</table>\n",
       "</div>"
      ],
      "text/plain": [
       "    year  gdp_trillions  income  inflation_p  interest_rate_p  population_m  \\\n",
       "10  2015          15.55  536000         1.09              3.0           323   \n",
       "\n",
       "    labor_participation  inv_p  tax_rev_p  natural_resources_rent_p  \\\n",
       "10                 81.5   20.4       10.9                     0.339   \n",
       "\n",
       "    research_inv_p    HDI  tech_exports_billions  \n",
       "10            2.76  0.919                  186.1  "
      ]
     },
     "execution_count": 86,
     "metadata": {},
     "output_type": "execute_result"
    }
   ],
   "source": [
    "usa.query('HDI == \"0.919\"')"
   ]
  },
  {
   "cell_type": "code",
   "execution_count": 87,
   "metadata": {},
   "outputs": [
    {
     "data": {
      "text/plain": [
       "count        11.000000\n",
       "mean     509454.545455\n",
       "std       15141.754432\n",
       "min      486000.000000\n",
       "25%      501500.000000\n",
       "50%      506000.000000\n",
       "75%      516500.000000\n",
       "max      536000.000000\n",
       "Name: income, dtype: float64"
      ]
     },
     "execution_count": 87,
     "metadata": {},
     "output_type": "execute_result"
    }
   ],
   "source": [
    "usa['income'].describe()"
   ]
  },
  {
   "cell_type": "markdown",
   "metadata": {},
   "source": [
    "# Research Question 2 -\n",
    "### What are the economic trends and which feature contributes the most for potential gdp growth?"
   ]
  },
  {
   "cell_type": "code",
   "execution_count": 88,
   "metadata": {
    "scrolled": true
   },
   "outputs": [
    {
     "data": {
      "text/html": [
       "<div>\n",
       "<style scoped>\n",
       "    .dataframe tbody tr th:only-of-type {\n",
       "        vertical-align: middle;\n",
       "    }\n",
       "\n",
       "    .dataframe tbody tr th {\n",
       "        vertical-align: top;\n",
       "    }\n",
       "\n",
       "    .dataframe thead th {\n",
       "        text-align: right;\n",
       "    }\n",
       "</style>\n",
       "<table border=\"1\" class=\"dataframe\">\n",
       "  <thead>\n",
       "    <tr style=\"text-align: right;\">\n",
       "      <th></th>\n",
       "      <th>gdp_trillions</th>\n",
       "      <th>income</th>\n",
       "      <th>inflation_p</th>\n",
       "      <th>interest_rate_p</th>\n",
       "      <th>population_m</th>\n",
       "      <th>labor_participation</th>\n",
       "      <th>inv_p</th>\n",
       "      <th>tax_rev_p</th>\n",
       "      <th>natural_resources_rent_p</th>\n",
       "      <th>research_inv_p</th>\n",
       "      <th>HDI</th>\n",
       "      <th>tech_exports_billions</th>\n",
       "    </tr>\n",
       "  </thead>\n",
       "  <tbody>\n",
       "    <tr>\n",
       "      <th>count</th>\n",
       "      <td>11.000000</td>\n",
       "      <td>11.000000</td>\n",
       "      <td>11.000000</td>\n",
       "      <td>11.00000</td>\n",
       "      <td>11.000000</td>\n",
       "      <td>11.000000</td>\n",
       "      <td>11.000000</td>\n",
       "      <td>11.000000</td>\n",
       "      <td>11.000000</td>\n",
       "      <td>11.000000</td>\n",
       "      <td>11.000000</td>\n",
       "      <td>11.000000</td>\n",
       "    </tr>\n",
       "    <tr>\n",
       "      <th>mean</th>\n",
       "      <td>15.550000</td>\n",
       "      <td>509454.545455</td>\n",
       "      <td>1.764727</td>\n",
       "      <td>3.00000</td>\n",
       "      <td>311.090909</td>\n",
       "      <td>82.036364</td>\n",
       "      <td>20.500000</td>\n",
       "      <td>10.217273</td>\n",
       "      <td>0.895182</td>\n",
       "      <td>2.715455</td>\n",
       "      <td>0.911091</td>\n",
       "      <td>186.100000</td>\n",
       "    </tr>\n",
       "    <tr>\n",
       "      <th>std</th>\n",
       "      <td>0.407431</td>\n",
       "      <td>15141.754432</td>\n",
       "      <td>0.702443</td>\n",
       "      <td>1.48324</td>\n",
       "      <td>8.395886</td>\n",
       "      <td>0.846490</td>\n",
       "      <td>1.642559</td>\n",
       "      <td>1.138509</td>\n",
       "      <td>0.445185</td>\n",
       "      <td>0.070903</td>\n",
       "      <td>0.006395</td>\n",
       "      <td>30.451437</td>\n",
       "    </tr>\n",
       "    <tr>\n",
       "      <th>min</th>\n",
       "      <td>14.900000</td>\n",
       "      <td>486000.000000</td>\n",
       "      <td>0.762000</td>\n",
       "      <td>1.00000</td>\n",
       "      <td>298.000000</td>\n",
       "      <td>81.000000</td>\n",
       "      <td>17.800000</td>\n",
       "      <td>7.920000</td>\n",
       "      <td>0.274000</td>\n",
       "      <td>2.560000</td>\n",
       "      <td>0.899000</td>\n",
       "      <td>154.000000</td>\n",
       "    </tr>\n",
       "    <tr>\n",
       "      <th>25%</th>\n",
       "      <td>15.350000</td>\n",
       "      <td>501500.000000</td>\n",
       "      <td>1.130000</td>\n",
       "      <td>2.50000</td>\n",
       "      <td>304.500000</td>\n",
       "      <td>81.350000</td>\n",
       "      <td>19.550000</td>\n",
       "      <td>9.685000</td>\n",
       "      <td>0.718000</td>\n",
       "      <td>2.695000</td>\n",
       "      <td>0.907500</td>\n",
       "      <td>170.500000</td>\n",
       "    </tr>\n",
       "    <tr>\n",
       "      <th>50%</th>\n",
       "      <td>15.550000</td>\n",
       "      <td>506000.000000</td>\n",
       "      <td>1.890000</td>\n",
       "      <td>3.00000</td>\n",
       "      <td>312.000000</td>\n",
       "      <td>81.700000</td>\n",
       "      <td>20.400000</td>\n",
       "      <td>10.500000</td>\n",
       "      <td>0.826000</td>\n",
       "      <td>2.720000</td>\n",
       "      <td>0.914000</td>\n",
       "      <td>177.000000</td>\n",
       "    </tr>\n",
       "    <tr>\n",
       "      <th>75%</th>\n",
       "      <td>15.575000</td>\n",
       "      <td>516500.000000</td>\n",
       "      <td>2.020000</td>\n",
       "      <td>3.00000</td>\n",
       "      <td>317.500000</td>\n",
       "      <td>82.850000</td>\n",
       "      <td>21.100000</td>\n",
       "      <td>11.100000</td>\n",
       "      <td>1.065000</td>\n",
       "      <td>2.765000</td>\n",
       "      <td>0.915500</td>\n",
       "      <td>182.550000</td>\n",
       "    </tr>\n",
       "    <tr>\n",
       "      <th>max</th>\n",
       "      <td>16.400000</td>\n",
       "      <td>536000.000000</td>\n",
       "      <td>3.030000</td>\n",
       "      <td>6.00000</td>\n",
       "      <td>323.000000</td>\n",
       "      <td>83.200000</td>\n",
       "      <td>23.500000</td>\n",
       "      <td>11.300000</td>\n",
       "      <td>1.910000</td>\n",
       "      <td>2.810000</td>\n",
       "      <td>0.919000</td>\n",
       "      <td>247.000000</td>\n",
       "    </tr>\n",
       "  </tbody>\n",
       "</table>\n",
       "</div>"
      ],
      "text/plain": [
       "       gdp_trillions         income  inflation_p  interest_rate_p  \\\n",
       "count      11.000000      11.000000    11.000000         11.00000   \n",
       "mean       15.550000  509454.545455     1.764727          3.00000   \n",
       "std         0.407431   15141.754432     0.702443          1.48324   \n",
       "min        14.900000  486000.000000     0.762000          1.00000   \n",
       "25%        15.350000  501500.000000     1.130000          2.50000   \n",
       "50%        15.550000  506000.000000     1.890000          3.00000   \n",
       "75%        15.575000  516500.000000     2.020000          3.00000   \n",
       "max        16.400000  536000.000000     3.030000          6.00000   \n",
       "\n",
       "       population_m  labor_participation      inv_p  tax_rev_p  \\\n",
       "count     11.000000            11.000000  11.000000  11.000000   \n",
       "mean     311.090909            82.036364  20.500000  10.217273   \n",
       "std        8.395886             0.846490   1.642559   1.138509   \n",
       "min      298.000000            81.000000  17.800000   7.920000   \n",
       "25%      304.500000            81.350000  19.550000   9.685000   \n",
       "50%      312.000000            81.700000  20.400000  10.500000   \n",
       "75%      317.500000            82.850000  21.100000  11.100000   \n",
       "max      323.000000            83.200000  23.500000  11.300000   \n",
       "\n",
       "       natural_resources_rent_p  research_inv_p        HDI  \\\n",
       "count                 11.000000       11.000000  11.000000   \n",
       "mean                   0.895182        2.715455   0.911091   \n",
       "std                    0.445185        0.070903   0.006395   \n",
       "min                    0.274000        2.560000   0.899000   \n",
       "25%                    0.718000        2.695000   0.907500   \n",
       "50%                    0.826000        2.720000   0.914000   \n",
       "75%                    1.065000        2.765000   0.915500   \n",
       "max                    1.910000        2.810000   0.919000   \n",
       "\n",
       "       tech_exports_billions  \n",
       "count              11.000000  \n",
       "mean              186.100000  \n",
       "std                30.451437  \n",
       "min               154.000000  \n",
       "25%               170.500000  \n",
       "50%               177.000000  \n",
       "75%               182.550000  \n",
       "max               247.000000  "
      ]
     },
     "execution_count": 88,
     "metadata": {},
     "output_type": "execute_result"
    }
   ],
   "source": [
    "usa.describe()"
   ]
  },
  {
   "cell_type": "code",
   "execution_count": 89,
   "metadata": {
    "scrolled": true
   },
   "outputs": [
    {
     "data": {
      "text/html": [
       "<div>\n",
       "<style scoped>\n",
       "    .dataframe tbody tr th:only-of-type {\n",
       "        vertical-align: middle;\n",
       "    }\n",
       "\n",
       "    .dataframe tbody tr th {\n",
       "        vertical-align: top;\n",
       "    }\n",
       "\n",
       "    .dataframe thead th {\n",
       "        text-align: right;\n",
       "    }\n",
       "</style>\n",
       "<table border=\"1\" class=\"dataframe\">\n",
       "  <thead>\n",
       "    <tr style=\"text-align: right;\">\n",
       "      <th></th>\n",
       "      <th>gdp</th>\n",
       "      <th>income</th>\n",
       "      <th>population</th>\n",
       "      <th>labor_force</th>\n",
       "      <th>investment</th>\n",
       "      <th>tax_revenue</th>\n",
       "      <th>natural_resources</th>\n",
       "      <th>research_inv</th>\n",
       "      <th>inflation</th>\n",
       "    </tr>\n",
       "  </thead>\n",
       "  <tbody>\n",
       "    <tr>\n",
       "      <th>count</th>\n",
       "      <td>10.000000</td>\n",
       "      <td>10.000000</td>\n",
       "      <td>10.000000</td>\n",
       "      <td>10.000000</td>\n",
       "      <td>10.000000</td>\n",
       "      <td>10.000000</td>\n",
       "      <td>10.000000</td>\n",
       "      <td>10.000000</td>\n",
       "      <td>10.000000</td>\n",
       "    </tr>\n",
       "    <tr>\n",
       "      <th>mean</th>\n",
       "      <td>0.261267</td>\n",
       "      <td>0.630784</td>\n",
       "      <td>0.808988</td>\n",
       "      <td>0.625749</td>\n",
       "      <td>-0.876191</td>\n",
       "      <td>0.519125</td>\n",
       "      <td>-1.092424</td>\n",
       "      <td>1.025290</td>\n",
       "      <td>-1.798293</td>\n",
       "    </tr>\n",
       "    <tr>\n",
       "      <th>std</th>\n",
       "      <td>2.704517</td>\n",
       "      <td>1.709273</td>\n",
       "      <td>0.180615</td>\n",
       "      <td>0.363499</td>\n",
       "      <td>7.957399</td>\n",
       "      <td>11.479683</td>\n",
       "      <td>44.361190</td>\n",
       "      <td>3.003683</td>\n",
       "      <td>41.774963</td>\n",
       "    </tr>\n",
       "    <tr>\n",
       "      <th>min</th>\n",
       "      <td>-5.182927</td>\n",
       "      <td>-3.571429</td>\n",
       "      <td>0.623053</td>\n",
       "      <td>0.143624</td>\n",
       "      <td>-18.378778</td>\n",
       "      <td>-25.603329</td>\n",
       "      <td>-60.944108</td>\n",
       "      <td>-4.833048</td>\n",
       "      <td>-60.923077</td>\n",
       "    </tr>\n",
       "    <tr>\n",
       "      <th>25%</th>\n",
       "      <td>-0.483871</td>\n",
       "      <td>0.765930</td>\n",
       "      <td>0.637963</td>\n",
       "      <td>0.410384</td>\n",
       "      <td>-3.322210</td>\n",
       "      <td>-2.175886</td>\n",
       "      <td>-27.939170</td>\n",
       "      <td>-0.111080</td>\n",
       "      <td>-23.437251</td>\n",
       "    </tr>\n",
       "    <tr>\n",
       "      <th>50%</th>\n",
       "      <td>0.931677</td>\n",
       "      <td>1.088917</td>\n",
       "      <td>0.806909</td>\n",
       "      <td>0.510362</td>\n",
       "      <td>-0.244692</td>\n",
       "      <td>1.895933</td>\n",
       "      <td>-2.948413</td>\n",
       "      <td>0.798587</td>\n",
       "      <td>-8.494069</td>\n",
       "    </tr>\n",
       "    <tr>\n",
       "      <th>75%</th>\n",
       "      <td>1.970459</td>\n",
       "      <td>1.669061</td>\n",
       "      <td>0.978013</td>\n",
       "      <td>0.815181</td>\n",
       "      <td>4.081478</td>\n",
       "      <td>8.275856</td>\n",
       "      <td>23.324314</td>\n",
       "      <td>3.058761</td>\n",
       "      <td>6.467290</td>\n",
       "    </tr>\n",
       "    <tr>\n",
       "      <th>max</th>\n",
       "      <td>3.205128</td>\n",
       "      <td>2.111324</td>\n",
       "      <td>1.006711</td>\n",
       "      <td>1.244183</td>\n",
       "      <td>8.068197</td>\n",
       "      <td>13.461012</td>\n",
       "      <td>82.468983</td>\n",
       "      <td>4.762027</td>\n",
       "      <td>78.632479</td>\n",
       "    </tr>\n",
       "  </tbody>\n",
       "</table>\n",
       "</div>"
      ],
      "text/plain": [
       "             gdp     income  population  labor_force  investment  tax_revenue  \\\n",
       "count  10.000000  10.000000   10.000000    10.000000   10.000000    10.000000   \n",
       "mean    0.261267   0.630784    0.808988     0.625749   -0.876191     0.519125   \n",
       "std     2.704517   1.709273    0.180615     0.363499    7.957399    11.479683   \n",
       "min    -5.182927  -3.571429    0.623053     0.143624  -18.378778   -25.603329   \n",
       "25%    -0.483871   0.765930    0.637963     0.410384   -3.322210    -2.175886   \n",
       "50%     0.931677   1.088917    0.806909     0.510362   -0.244692     1.895933   \n",
       "75%     1.970459   1.669061    0.978013     0.815181    4.081478     8.275856   \n",
       "max     3.205128   2.111324    1.006711     1.244183    8.068197    13.461012   \n",
       "\n",
       "       natural_resources  research_inv  inflation  \n",
       "count          10.000000     10.000000  10.000000  \n",
       "mean           -1.092424      1.025290  -1.798293  \n",
       "std            44.361190      3.003683  41.774963  \n",
       "min           -60.944108     -4.833048 -60.923077  \n",
       "25%           -27.939170     -0.111080 -23.437251  \n",
       "50%            -2.948413      0.798587  -8.494069  \n",
       "75%            23.324314      3.058761   6.467290  \n",
       "max            82.468983      4.762027  78.632479  "
      ]
     },
     "execution_count": 89,
     "metadata": {},
     "output_type": "execute_result"
    }
   ],
   "source": [
    "usa_gdp_yoy.describe()"
   ]
  },
  {
   "cell_type": "code",
   "execution_count": 90,
   "metadata": {
    "scrolled": true
   },
   "outputs": [],
   "source": [
    "# Analyzing gdp yoy "
   ]
  },
  {
   "cell_type": "code",
   "execution_count": 91,
   "metadata": {
    "scrolled": false
   },
   "outputs": [
    {
     "data": {
      "text/plain": [
       "<seaborn.axisgrid.PairGrid at 0x7ff17ba231c0>"
      ]
     },
     "execution_count": 91,
     "metadata": {},
     "output_type": "execute_result"
    },
    {
     "data": {
      "image/png": "[encoded data removed]",
      "text/plain": [
       "<Figure size 1620x1620 with 90 Axes>"
      ]
     },
     "metadata": {
      "needs_background": "light"
     },
     "output_type": "display_data"
    }
   ],
   "source": [
    "sns.pairplot(usa_gdp_yoy)"
   ]
  },
  {
   "cell_type": "markdown",
   "metadata": {},
   "source": [
    "> There seems to be a good correlation between the GDP, tax revenue and investment"
   ]
  },
  {
   "cell_type": "code",
   "execution_count": 92,
   "metadata": {
    "scrolled": true
   },
   "outputs": [
    {
     "data": {
      "image/png": "[encoded data removed]",
      "text/plain": [
       "<Figure size 432x288 with 1 Axes>"
      ]
     },
     "metadata": {
      "needs_background": "light"
     },
     "output_type": "display_data"
    }
   ],
   "source": [
    "#plotting the three features \n",
    "plt.plot(usa_gdp_yoy['year'],usa_gdp_yoy['gdp'], label = \"gdp\")\n",
    "plt.plot(usa_gdp_yoy['year'],usa_gdp_yoy['tax_revenue'], label = \"tax\")\n",
    "plt.plot(usa_gdp_yoy['year'],usa_gdp_yoy['investment'], label = \"inv\")\n",
    "plt.title('Economic Trends')\n",
    "plt.xlabel('Year')\n",
    "plt.ylabel('yoy%')\n",
    "plt.grid(True)\n",
    "plt.legend()\n",
    "plt.show()"
   ]
  },
  {
   "cell_type": "markdown",
   "metadata": {},
   "source": [
    "> Whereas tax rev and investments have good correlation with income"
   ]
  },
  {
   "cell_type": "code",
   "execution_count": 93,
   "metadata": {
    "scrolled": true
   },
   "outputs": [
    {
     "data": {
      "image/png": "[encoded data removed]",
      "text/plain": [
       "<Figure size 432x288 with 1 Axes>"
      ]
     },
     "metadata": {
      "needs_background": "light"
     },
     "output_type": "display_data"
    }
   ],
   "source": [
    "#plotting the income vs tax rev vs investment \n",
    "plt.plot(usa_gdp_yoy['year'],usa_gdp_yoy['income'], label = \"inc\")\n",
    "plt.plot(usa_gdp_yoy['year'],usa_gdp_yoy['tax_revenue'], label = \"tax\")\n",
    "plt.plot(usa_gdp_yoy['year'],usa_gdp_yoy['investment'], label = \"inv\")\n",
    "plt.title('Economic Trends')\n",
    "plt.xlabel('Year')\n",
    "plt.ylabel('yoy%')\n",
    "plt.grid(True)\n",
    "plt.legend()\n",
    "plt.show()"
   ]
  },
  {
   "cell_type": "code",
   "execution_count": 94,
   "metadata": {
    "scrolled": true
   },
   "outputs": [
    {
     "data": {
      "image/png": "[encoded data removed]",
      "text/plain": [
       "<Figure size 432x288 with 1 Axes>"
      ]
     },
     "metadata": {
      "needs_background": "light"
     },
     "output_type": "display_data"
    }
   ],
   "source": [
    "#plotting the gdp vs research investment \n",
    "plt.plot(usa_gdp_yoy['year'],usa_gdp_yoy['gdp'], label = \"gdp\")\n",
    "plt.plot(usa_gdp_yoy['year'],usa_gdp_yoy['research_inv'], label = \"res\")\n",
    "plt.title('Economic Trends')\n",
    "plt.xlabel('Year')\n",
    "plt.ylabel('yoy%')\n",
    "plt.grid(True)\n",
    "plt.legend()\n",
    "plt.show()"
   ]
  },
  {
   "cell_type": "code",
   "execution_count": 95,
   "metadata": {},
   "outputs": [
    {
     "data": {
      "image/png": "[encoded data removed]",
      "text/plain": [
       "<Figure size 360x360 with 6 Axes>"
      ]
     },
     "metadata": {
      "needs_background": "light"
     },
     "output_type": "display_data"
    }
   ],
   "source": [
    "research = pd.DataFrame(usa_gdp_yoy['gdp'])\n",
    "research['res_inv'] = usa_gdp_yoy['research_inv']\n",
    "sns.pairplot(research);"
   ]
  },
  {
   "cell_type": "markdown",
   "metadata": {},
   "source": [
    "> Having a good investment rate in R&D is good for the economy as technology plays an important role in the potential gdp growth for developed countries"
   ]
  },
  {
   "cell_type": "markdown",
   "metadata": {},
   "source": [
    "# Research Question 3 -\n",
    "### What were the features during the financial crash of 2007 ?"
   ]
  },
  {
   "cell_type": "code",
   "execution_count": 96,
   "metadata": {
    "scrolled": true
   },
   "outputs": [
    {
     "data": {
      "text/html": [
       "<div>\n",
       "<style scoped>\n",
       "    .dataframe tbody tr th:only-of-type {\n",
       "        vertical-align: middle;\n",
       "    }\n",
       "\n",
       "    .dataframe tbody tr th {\n",
       "        vertical-align: top;\n",
       "    }\n",
       "\n",
       "    .dataframe thead th {\n",
       "        text-align: right;\n",
       "    }\n",
       "</style>\n",
       "<table border=\"1\" class=\"dataframe\">\n",
       "  <thead>\n",
       "    <tr style=\"text-align: right;\">\n",
       "      <th></th>\n",
       "      <th>year</th>\n",
       "      <th>gdp_trillions</th>\n",
       "      <th>income</th>\n",
       "      <th>inflation_p</th>\n",
       "      <th>interest_rate_p</th>\n",
       "      <th>population_m</th>\n",
       "      <th>labor_participation</th>\n",
       "      <th>inv_p</th>\n",
       "      <th>tax_rev_p</th>\n",
       "      <th>natural_resources_rent_p</th>\n",
       "      <th>research_inv_p</th>\n",
       "      <th>HDI</th>\n",
       "      <th>tech_exports_billions</th>\n",
       "    </tr>\n",
       "  </thead>\n",
       "  <tbody>\n",
       "    <tr>\n",
       "      <th>2</th>\n",
       "      <td>2007</td>\n",
       "      <td>15.4</td>\n",
       "      <td>504000</td>\n",
       "      <td>1.95</td>\n",
       "      <td>2.0</td>\n",
       "      <td>303</td>\n",
       "      <td>83.2</td>\n",
       "      <td>21.1</td>\n",
       "      <td>10.3</td>\n",
       "      <td>1.91</td>\n",
       "      <td>2.77</td>\n",
       "      <td>0.907</td>\n",
       "      <td>154.0</td>\n",
       "    </tr>\n",
       "  </tbody>\n",
       "</table>\n",
       "</div>"
      ],
      "text/plain": [
       "   year  gdp_trillions  income  inflation_p  interest_rate_p  population_m  \\\n",
       "2  2007           15.4  504000         1.95              2.0           303   \n",
       "\n",
       "   labor_participation  inv_p  tax_rev_p  natural_resources_rent_p  \\\n",
       "2                 83.2   21.1       10.3                      1.91   \n",
       "\n",
       "   research_inv_p    HDI  tech_exports_billions  \n",
       "2            2.77  0.907                  154.0  "
      ]
     },
     "execution_count": 96,
     "metadata": {},
     "output_type": "execute_result"
    }
   ],
   "source": [
    "usa.query('year == \"2007\"')"
   ]
  },
  {
   "cell_type": "markdown",
   "metadata": {},
   "source": [
    "# Research Question 3 -\n",
    "### GDP change from 2005 to 2015?"
   ]
  },
  {
   "cell_type": "code",
   "execution_count": 97,
   "metadata": {
    "scrolled": true
   },
   "outputs": [],
   "source": [
    "x = usa_gdp.query('year==\"2005\"')"
   ]
  },
  {
   "cell_type": "code",
   "execution_count": 98,
   "metadata": {
    "scrolled": true
   },
   "outputs": [],
   "source": [
    "y = usa_gdp.query('year==\"2015\"')"
   ]
  },
  {
   "cell_type": "code",
   "execution_count": 99,
   "metadata": {
    "scrolled": true
   },
   "outputs": [],
   "source": [
    "x = x.append(y)"
   ]
  },
  {
   "cell_type": "code",
   "execution_count": 100,
   "metadata": {
    "scrolled": true
   },
   "outputs": [
    {
     "data": {
      "text/plain": [
       "0          NaN\n",
       "10    2.302632\n",
       "Name: gdp, dtype: float64"
      ]
     },
     "execution_count": 100,
     "metadata": {},
     "output_type": "execute_result"
    }
   ],
   "source": [
    "x['gdp'].pct_change()*100"
   ]
  },
  {
   "cell_type": "code",
   "execution_count": 101,
   "metadata": {},
   "outputs": [
    {
     "data": {
      "image/png": "[encoded data removed]",
      "text/plain": [
       "<Figure size 432x288 with 1 Axes>"
      ]
     },
     "metadata": {
      "needs_background": "light"
     },
     "output_type": "display_data"
    }
   ],
   "source": [
    "# Visualizing Monetary Policy Trend against Inflation\n",
    "plt.plot(usa['year'],usa['interest_rate_p'], label = \"interest rate\")\n",
    "plt.plot(usa['year'],usa['inflation_p'], label = \"inflation\")\n",
    "plt.title('interest vs inflation')\n",
    "plt.xlabel('Year')\n",
    "plt.ylabel('rate')\n",
    "plt.grid(True)\n",
    "plt.legend()\n",
    "plt.show()"
   ]
  },
  {
   "cell_type": "code",
   "execution_count": 102,
   "metadata": {},
   "outputs": [
    {
     "data": {
      "image/png": "[encoded data removed]",
      "text/plain": [
       "<Figure size 432x288 with 1 Axes>"
      ]
     },
     "metadata": {
      "needs_background": "light"
     },
     "output_type": "display_data"
    }
   ],
   "source": [
    "#plotting the population vs labor participation \n",
    "plt.plot(usa_gdp_yoy['year'],usa_gdp_yoy['population'], label = \"gdp\")\n",
    "plt.plot(usa_gdp_yoy['year'],usa_gdp_yoy['labor_force'], label = \"res\")\n",
    "plt.title('Labor Participation')\n",
    "plt.xlabel('Year')\n",
    "plt.ylabel('yoy%')\n",
    "plt.grid(True)\n",
    "plt.legend()\n",
    "plt.show()"
   ]
  },
  {
   "cell_type": "markdown",
   "metadata": {},
   "source": [
    "# <a id='conclusions'></a>\n",
    "## Conclusions\n",
    "\n",
    "> The US economy grew at a steady rate of 2.30% this is purely dependent on the quality of the data\n",
    "\n",
    "> The only time interest rates were lower than the inflation rate was during 2007 financial crisis\n",
    "\n",
    "> A high level of capital per worker is available in developed countries and this leads to diminishing marginal productivity. The economy needs to invest more in technological advances to increase total factor productivity. An upward trend in R&D investement can contribute to the potential economic growth\n",
    "\n",
    "> The highest HDI was associated with highest income\n",
    "> Tax revenue and Investment highly contribute to GDP growth. An increase in labor participation and income contributes to tax revenue and investment\n",
    "\n",
    "> The upward trend in labor participation for a given population is very good for the economy"
   ]
  },
  {
   "cell_type": "markdown",
   "metadata": {},
   "source": [
    "# Limitations\n",
    "\n",
    "> The dataset doen't answer unemployment related effects which directly impacts the tax revenue, investment, inflation and ultimately GDP\n",
    "\n",
    "> The dataset shows us the trends over the years but it can't point out the exact cause for the decline and rise\n",
    "\n",
    "> The data had lots of missing data and had to be filled with average to perform analysis. This could affect the accuracy of the data"
   ]
  },
  {
   "cell_type": "markdown",
   "metadata": {},
   "source": [
    "# Duplicates \n",
    "\n",
    "> The duplicates were checked and there were none for the missing value, I filled them with mean. For example - there were values missing for 2013, 2014 and 2015 gdp data"
   ]
  },
  {
   "cell_type": "code",
   "execution_count": 1,
   "metadata": {
    "scrolled": true
   },
   "outputs": [],
   "source": [
    "#### CFA level 1 Macro Economics Curriculum was utilized to choose the features ##########"
   ]
  }
 ],
 "metadata": {
  "kernelspec": {
   "display_name": "Python 3",
   "language": "python",
   "name": "python3"
  },
  "language_info": {
   "codemirror_mode": {
    "name": "ipython",
    "version": 3
   },
   "file_extension": ".py",
   "mimetype": "text/x-python",
   "name": "python",
   "nbconvert_exporter": "python",
   "pygments_lexer": "ipython3",
   "version": "3.8.5"
  }
 },
 "nbformat": 4,
 "nbformat_minor": 4
}
